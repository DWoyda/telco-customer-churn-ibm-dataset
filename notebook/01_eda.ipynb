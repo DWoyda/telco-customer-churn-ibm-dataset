{
 "cells": [
  {
   "cell_type": "code",
   "execution_count": 1,
   "id": "7c076f3e",
   "metadata": {},
   "outputs": [],
   "source": [
    "import pandas as pd\n",
    "from ogman import clean_columns\n",
    "import seaborn as sns\n",
    "import matplotlib.pyplot as plt\n",
    "import folium\n",
    "import numpy as np\n",
    "from branca.colormap import linear"
   ]
  },
  {
   "cell_type": "code",
   "execution_count": 2,
   "id": "b948915f",
   "metadata": {},
   "outputs": [],
   "source": [
    "df = pd.read_excel('../data/raw/Telco_customer_churn.xlsx')"
   ]
  },
  {
   "cell_type": "markdown",
   "id": "ed2611fd",
   "metadata": {},
   "source": [
    "TARGET - `Churn Value`:\n",
    "\n",
    "Churn Value: 1 = the customer left the company this quarter. 0 = the customer remained with the company. Directly related to Churn Label."
   ]
  },
  {
   "cell_type": "markdown",
   "id": "f2efecaa",
   "metadata": {},
   "source": [
    "# EDA RAW & CLEANING"
   ]
  },
  {
   "cell_type": "code",
   "execution_count": 3,
   "id": "989b7332",
   "metadata": {},
   "outputs": [
    {
     "data": {
      "application/vnd.microsoft.datawrangler.viewer.v0+json": {
       "columns": [
        {
         "name": "index",
         "rawType": "int64",
         "type": "integer"
        },
        {
         "name": "CustomerID",
         "rawType": "object",
         "type": "string"
        },
        {
         "name": "Count",
         "rawType": "int64",
         "type": "integer"
        },
        {
         "name": "Country",
         "rawType": "object",
         "type": "string"
        },
        {
         "name": "State",
         "rawType": "object",
         "type": "string"
        },
        {
         "name": "City",
         "rawType": "object",
         "type": "string"
        },
        {
         "name": "Zip Code",
         "rawType": "int64",
         "type": "integer"
        },
        {
         "name": "Lat Long",
         "rawType": "object",
         "type": "string"
        },
        {
         "name": "Latitude",
         "rawType": "float64",
         "type": "float"
        },
        {
         "name": "Longitude",
         "rawType": "float64",
         "type": "float"
        },
        {
         "name": "Gender",
         "rawType": "object",
         "type": "string"
        },
        {
         "name": "Senior Citizen",
         "rawType": "object",
         "type": "string"
        },
        {
         "name": "Partner",
         "rawType": "object",
         "type": "string"
        },
        {
         "name": "Dependents",
         "rawType": "object",
         "type": "string"
        },
        {
         "name": "Tenure Months",
         "rawType": "int64",
         "type": "integer"
        },
        {
         "name": "Phone Service",
         "rawType": "object",
         "type": "string"
        },
        {
         "name": "Multiple Lines",
         "rawType": "object",
         "type": "string"
        },
        {
         "name": "Internet Service",
         "rawType": "object",
         "type": "string"
        },
        {
         "name": "Online Security",
         "rawType": "object",
         "type": "string"
        },
        {
         "name": "Online Backup",
         "rawType": "object",
         "type": "string"
        },
        {
         "name": "Device Protection",
         "rawType": "object",
         "type": "string"
        },
        {
         "name": "Tech Support",
         "rawType": "object",
         "type": "string"
        },
        {
         "name": "Streaming TV",
         "rawType": "object",
         "type": "string"
        },
        {
         "name": "Streaming Movies",
         "rawType": "object",
         "type": "string"
        },
        {
         "name": "Contract",
         "rawType": "object",
         "type": "string"
        },
        {
         "name": "Paperless Billing",
         "rawType": "object",
         "type": "string"
        },
        {
         "name": "Payment Method",
         "rawType": "object",
         "type": "string"
        },
        {
         "name": "Monthly Charges",
         "rawType": "float64",
         "type": "float"
        },
        {
         "name": "Total Charges",
         "rawType": "object",
         "type": "unknown"
        },
        {
         "name": "Churn Label",
         "rawType": "object",
         "type": "string"
        },
        {
         "name": "Churn Value",
         "rawType": "int64",
         "type": "integer"
        },
        {
         "name": "Churn Score",
         "rawType": "int64",
         "type": "integer"
        },
        {
         "name": "CLTV",
         "rawType": "int64",
         "type": "integer"
        },
        {
         "name": "Churn Reason",
         "rawType": "object",
         "type": "string"
        }
       ],
       "ref": "4b35dfef-8bea-4eb0-a749-84f07bb3f3cd",
       "rows": [
        [
         "0",
         "3668-QPYBK",
         "1",
         "United States",
         "California",
         "Los Angeles",
         "90003",
         "33.964131, -118.272783",
         "33.964131",
         "-118.272783",
         "Male",
         "No",
         "No",
         "No",
         "2",
         "Yes",
         "No",
         "DSL",
         "Yes",
         "Yes",
         "No",
         "No",
         "No",
         "No",
         "Month-to-month",
         "Yes",
         "Mailed check",
         "53.85",
         "108.15",
         "Yes",
         "1",
         "86",
         "3239",
         "Competitor made better offer"
        ],
        [
         "1",
         "9237-HQITU",
         "1",
         "United States",
         "California",
         "Los Angeles",
         "90005",
         "34.059281, -118.30742",
         "34.059281",
         "-118.30742",
         "Female",
         "No",
         "No",
         "Yes",
         "2",
         "Yes",
         "No",
         "Fiber optic",
         "No",
         "No",
         "No",
         "No",
         "No",
         "No",
         "Month-to-month",
         "Yes",
         "Electronic check",
         "70.7",
         "151.65",
         "Yes",
         "1",
         "67",
         "2701",
         "Moved"
        ],
        [
         "2",
         "9305-CDSKC",
         "1",
         "United States",
         "California",
         "Los Angeles",
         "90006",
         "34.048013, -118.293953",
         "34.048013",
         "-118.293953",
         "Female",
         "No",
         "No",
         "Yes",
         "8",
         "Yes",
         "Yes",
         "Fiber optic",
         "No",
         "No",
         "Yes",
         "No",
         "Yes",
         "Yes",
         "Month-to-month",
         "Yes",
         "Electronic check",
         "99.65",
         "820.5",
         "Yes",
         "1",
         "86",
         "5372",
         "Moved"
        ],
        [
         "3",
         "7892-POOKP",
         "1",
         "United States",
         "California",
         "Los Angeles",
         "90010",
         "34.062125, -118.315709",
         "34.062125",
         "-118.315709",
         "Female",
         "No",
         "Yes",
         "Yes",
         "28",
         "Yes",
         "Yes",
         "Fiber optic",
         "No",
         "No",
         "Yes",
         "Yes",
         "Yes",
         "Yes",
         "Month-to-month",
         "Yes",
         "Electronic check",
         "104.8",
         "3046.05",
         "Yes",
         "1",
         "84",
         "5003",
         "Moved"
        ],
        [
         "4",
         "0280-XJGEX",
         "1",
         "United States",
         "California",
         "Los Angeles",
         "90015",
         "34.039224, -118.266293",
         "34.039224",
         "-118.266293",
         "Male",
         "No",
         "No",
         "Yes",
         "49",
         "Yes",
         "Yes",
         "Fiber optic",
         "No",
         "Yes",
         "Yes",
         "No",
         "Yes",
         "Yes",
         "Month-to-month",
         "Yes",
         "Bank transfer (automatic)",
         "103.7",
         "5036.3",
         "Yes",
         "1",
         "89",
         "5340",
         "Competitor had better devices"
        ]
       ],
       "shape": {
        "columns": 33,
        "rows": 5
       }
      },
      "text/html": [
       "<div>\n",
       "<style scoped>\n",
       "    .dataframe tbody tr th:only-of-type {\n",
       "        vertical-align: middle;\n",
       "    }\n",
       "\n",
       "    .dataframe tbody tr th {\n",
       "        vertical-align: top;\n",
       "    }\n",
       "\n",
       "    .dataframe thead th {\n",
       "        text-align: right;\n",
       "    }\n",
       "</style>\n",
       "<table border=\"1\" class=\"dataframe\">\n",
       "  <thead>\n",
       "    <tr style=\"text-align: right;\">\n",
       "      <th></th>\n",
       "      <th>CustomerID</th>\n",
       "      <th>Count</th>\n",
       "      <th>Country</th>\n",
       "      <th>State</th>\n",
       "      <th>City</th>\n",
       "      <th>Zip Code</th>\n",
       "      <th>Lat Long</th>\n",
       "      <th>Latitude</th>\n",
       "      <th>Longitude</th>\n",
       "      <th>Gender</th>\n",
       "      <th>...</th>\n",
       "      <th>Contract</th>\n",
       "      <th>Paperless Billing</th>\n",
       "      <th>Payment Method</th>\n",
       "      <th>Monthly Charges</th>\n",
       "      <th>Total Charges</th>\n",
       "      <th>Churn Label</th>\n",
       "      <th>Churn Value</th>\n",
       "      <th>Churn Score</th>\n",
       "      <th>CLTV</th>\n",
       "      <th>Churn Reason</th>\n",
       "    </tr>\n",
       "  </thead>\n",
       "  <tbody>\n",
       "    <tr>\n",
       "      <th>0</th>\n",
       "      <td>3668-QPYBK</td>\n",
       "      <td>1</td>\n",
       "      <td>United States</td>\n",
       "      <td>California</td>\n",
       "      <td>Los Angeles</td>\n",
       "      <td>90003</td>\n",
       "      <td>33.964131, -118.272783</td>\n",
       "      <td>33.964131</td>\n",
       "      <td>-118.272783</td>\n",
       "      <td>Male</td>\n",
       "      <td>...</td>\n",
       "      <td>Month-to-month</td>\n",
       "      <td>Yes</td>\n",
       "      <td>Mailed check</td>\n",
       "      <td>53.85</td>\n",
       "      <td>108.15</td>\n",
       "      <td>Yes</td>\n",
       "      <td>1</td>\n",
       "      <td>86</td>\n",
       "      <td>3239</td>\n",
       "      <td>Competitor made better offer</td>\n",
       "    </tr>\n",
       "    <tr>\n",
       "      <th>1</th>\n",
       "      <td>9237-HQITU</td>\n",
       "      <td>1</td>\n",
       "      <td>United States</td>\n",
       "      <td>California</td>\n",
       "      <td>Los Angeles</td>\n",
       "      <td>90005</td>\n",
       "      <td>34.059281, -118.30742</td>\n",
       "      <td>34.059281</td>\n",
       "      <td>-118.307420</td>\n",
       "      <td>Female</td>\n",
       "      <td>...</td>\n",
       "      <td>Month-to-month</td>\n",
       "      <td>Yes</td>\n",
       "      <td>Electronic check</td>\n",
       "      <td>70.70</td>\n",
       "      <td>151.65</td>\n",
       "      <td>Yes</td>\n",
       "      <td>1</td>\n",
       "      <td>67</td>\n",
       "      <td>2701</td>\n",
       "      <td>Moved</td>\n",
       "    </tr>\n",
       "    <tr>\n",
       "      <th>2</th>\n",
       "      <td>9305-CDSKC</td>\n",
       "      <td>1</td>\n",
       "      <td>United States</td>\n",
       "      <td>California</td>\n",
       "      <td>Los Angeles</td>\n",
       "      <td>90006</td>\n",
       "      <td>34.048013, -118.293953</td>\n",
       "      <td>34.048013</td>\n",
       "      <td>-118.293953</td>\n",
       "      <td>Female</td>\n",
       "      <td>...</td>\n",
       "      <td>Month-to-month</td>\n",
       "      <td>Yes</td>\n",
       "      <td>Electronic check</td>\n",
       "      <td>99.65</td>\n",
       "      <td>820.5</td>\n",
       "      <td>Yes</td>\n",
       "      <td>1</td>\n",
       "      <td>86</td>\n",
       "      <td>5372</td>\n",
       "      <td>Moved</td>\n",
       "    </tr>\n",
       "    <tr>\n",
       "      <th>3</th>\n",
       "      <td>7892-POOKP</td>\n",
       "      <td>1</td>\n",
       "      <td>United States</td>\n",
       "      <td>California</td>\n",
       "      <td>Los Angeles</td>\n",
       "      <td>90010</td>\n",
       "      <td>34.062125, -118.315709</td>\n",
       "      <td>34.062125</td>\n",
       "      <td>-118.315709</td>\n",
       "      <td>Female</td>\n",
       "      <td>...</td>\n",
       "      <td>Month-to-month</td>\n",
       "      <td>Yes</td>\n",
       "      <td>Electronic check</td>\n",
       "      <td>104.80</td>\n",
       "      <td>3046.05</td>\n",
       "      <td>Yes</td>\n",
       "      <td>1</td>\n",
       "      <td>84</td>\n",
       "      <td>5003</td>\n",
       "      <td>Moved</td>\n",
       "    </tr>\n",
       "    <tr>\n",
       "      <th>4</th>\n",
       "      <td>0280-XJGEX</td>\n",
       "      <td>1</td>\n",
       "      <td>United States</td>\n",
       "      <td>California</td>\n",
       "      <td>Los Angeles</td>\n",
       "      <td>90015</td>\n",
       "      <td>34.039224, -118.266293</td>\n",
       "      <td>34.039224</td>\n",
       "      <td>-118.266293</td>\n",
       "      <td>Male</td>\n",
       "      <td>...</td>\n",
       "      <td>Month-to-month</td>\n",
       "      <td>Yes</td>\n",
       "      <td>Bank transfer (automatic)</td>\n",
       "      <td>103.70</td>\n",
       "      <td>5036.3</td>\n",
       "      <td>Yes</td>\n",
       "      <td>1</td>\n",
       "      <td>89</td>\n",
       "      <td>5340</td>\n",
       "      <td>Competitor had better devices</td>\n",
       "    </tr>\n",
       "  </tbody>\n",
       "</table>\n",
       "<p>5 rows × 33 columns</p>\n",
       "</div>"
      ],
      "text/plain": [
       "   CustomerID  Count        Country       State         City  Zip Code  \\\n",
       "0  3668-QPYBK      1  United States  California  Los Angeles     90003   \n",
       "1  9237-HQITU      1  United States  California  Los Angeles     90005   \n",
       "2  9305-CDSKC      1  United States  California  Los Angeles     90006   \n",
       "3  7892-POOKP      1  United States  California  Los Angeles     90010   \n",
       "4  0280-XJGEX      1  United States  California  Los Angeles     90015   \n",
       "\n",
       "                 Lat Long   Latitude   Longitude  Gender  ...        Contract  \\\n",
       "0  33.964131, -118.272783  33.964131 -118.272783    Male  ...  Month-to-month   \n",
       "1   34.059281, -118.30742  34.059281 -118.307420  Female  ...  Month-to-month   \n",
       "2  34.048013, -118.293953  34.048013 -118.293953  Female  ...  Month-to-month   \n",
       "3  34.062125, -118.315709  34.062125 -118.315709  Female  ...  Month-to-month   \n",
       "4  34.039224, -118.266293  34.039224 -118.266293    Male  ...  Month-to-month   \n",
       "\n",
       "  Paperless Billing             Payment Method  Monthly Charges Total Charges  \\\n",
       "0               Yes               Mailed check            53.85        108.15   \n",
       "1               Yes           Electronic check            70.70        151.65   \n",
       "2               Yes           Electronic check            99.65         820.5   \n",
       "3               Yes           Electronic check           104.80       3046.05   \n",
       "4               Yes  Bank transfer (automatic)           103.70        5036.3   \n",
       "\n",
       "  Churn Label Churn Value Churn Score  CLTV                   Churn Reason  \n",
       "0         Yes           1          86  3239   Competitor made better offer  \n",
       "1         Yes           1          67  2701                          Moved  \n",
       "2         Yes           1          86  5372                          Moved  \n",
       "3         Yes           1          84  5003                          Moved  \n",
       "4         Yes           1          89  5340  Competitor had better devices  \n",
       "\n",
       "[5 rows x 33 columns]"
      ]
     },
     "execution_count": 3,
     "metadata": {},
     "output_type": "execute_result"
    }
   ],
   "source": [
    "df.head()"
   ]
  },
  {
   "cell_type": "code",
   "execution_count": 4,
   "id": "f6af7401",
   "metadata": {},
   "outputs": [
    {
     "data": {
      "application/vnd.microsoft.datawrangler.viewer.v0+json": {
       "columns": [
        {
         "name": "index",
         "rawType": "int64",
         "type": "integer"
        },
        {
         "name": "CustomerID",
         "rawType": "object",
         "type": "string"
        },
        {
         "name": "Count",
         "rawType": "int64",
         "type": "integer"
        },
        {
         "name": "Country",
         "rawType": "object",
         "type": "string"
        },
        {
         "name": "State",
         "rawType": "object",
         "type": "string"
        },
        {
         "name": "City",
         "rawType": "object",
         "type": "string"
        },
        {
         "name": "Zip Code",
         "rawType": "int64",
         "type": "integer"
        },
        {
         "name": "Lat Long",
         "rawType": "object",
         "type": "string"
        },
        {
         "name": "Latitude",
         "rawType": "float64",
         "type": "float"
        },
        {
         "name": "Longitude",
         "rawType": "float64",
         "type": "float"
        },
        {
         "name": "Gender",
         "rawType": "object",
         "type": "string"
        },
        {
         "name": "Senior Citizen",
         "rawType": "object",
         "type": "string"
        },
        {
         "name": "Partner",
         "rawType": "object",
         "type": "string"
        },
        {
         "name": "Dependents",
         "rawType": "object",
         "type": "string"
        },
        {
         "name": "Tenure Months",
         "rawType": "int64",
         "type": "integer"
        },
        {
         "name": "Phone Service",
         "rawType": "object",
         "type": "string"
        },
        {
         "name": "Multiple Lines",
         "rawType": "object",
         "type": "string"
        },
        {
         "name": "Internet Service",
         "rawType": "object",
         "type": "string"
        },
        {
         "name": "Online Security",
         "rawType": "object",
         "type": "string"
        },
        {
         "name": "Online Backup",
         "rawType": "object",
         "type": "string"
        },
        {
         "name": "Device Protection",
         "rawType": "object",
         "type": "string"
        },
        {
         "name": "Tech Support",
         "rawType": "object",
         "type": "string"
        },
        {
         "name": "Streaming TV",
         "rawType": "object",
         "type": "string"
        },
        {
         "name": "Streaming Movies",
         "rawType": "object",
         "type": "string"
        },
        {
         "name": "Contract",
         "rawType": "object",
         "type": "string"
        },
        {
         "name": "Paperless Billing",
         "rawType": "object",
         "type": "string"
        },
        {
         "name": "Payment Method",
         "rawType": "object",
         "type": "string"
        },
        {
         "name": "Monthly Charges",
         "rawType": "float64",
         "type": "float"
        },
        {
         "name": "Total Charges",
         "rawType": "object",
         "type": "unknown"
        },
        {
         "name": "Churn Label",
         "rawType": "object",
         "type": "string"
        },
        {
         "name": "Churn Value",
         "rawType": "int64",
         "type": "integer"
        },
        {
         "name": "Churn Score",
         "rawType": "int64",
         "type": "integer"
        },
        {
         "name": "CLTV",
         "rawType": "int64",
         "type": "integer"
        },
        {
         "name": "Churn Reason",
         "rawType": "object",
         "type": "unknown"
        }
       ],
       "ref": "2d7b368d-8f31-4943-8e48-5fb5b3674f19",
       "rows": [
        [
         "7038",
         "2569-WGERO",
         "1",
         "United States",
         "California",
         "Landers",
         "92285",
         "34.341737, -116.539416",
         "34.341737",
         "-116.539416",
         "Female",
         "No",
         "No",
         "No",
         "72",
         "Yes",
         "No",
         "No",
         "No internet service",
         "No internet service",
         "No internet service",
         "No internet service",
         "No internet service",
         "No internet service",
         "Two year",
         "Yes",
         "Bank transfer (automatic)",
         "21.15",
         "1419.4",
         "No",
         "0",
         "45",
         "5306",
         null
        ],
        [
         "7039",
         "6840-RESVB",
         "1",
         "United States",
         "California",
         "Adelanto",
         "92301",
         "34.667815, -117.536183",
         "34.667815",
         "-117.536183",
         "Male",
         "No",
         "Yes",
         "Yes",
         "24",
         "Yes",
         "Yes",
         "DSL",
         "Yes",
         "No",
         "Yes",
         "Yes",
         "Yes",
         "Yes",
         "One year",
         "Yes",
         "Mailed check",
         "84.8",
         "1990.5",
         "No",
         "0",
         "59",
         "2140",
         null
        ],
        [
         "7040",
         "2234-XADUH",
         "1",
         "United States",
         "California",
         "Amboy",
         "92304",
         "34.559882, -115.637164",
         "34.559882",
         "-115.637164",
         "Female",
         "No",
         "Yes",
         "Yes",
         "72",
         "Yes",
         "Yes",
         "Fiber optic",
         "No",
         "Yes",
         "Yes",
         "No",
         "Yes",
         "Yes",
         "One year",
         "Yes",
         "Credit card (automatic)",
         "103.2",
         "7362.9",
         "No",
         "0",
         "71",
         "5560",
         null
        ],
        [
         "7041",
         "4801-JZAZL",
         "1",
         "United States",
         "California",
         "Angelus Oaks",
         "92305",
         "34.1678, -116.86433",
         "34.1678",
         "-116.86433",
         "Female",
         "No",
         "Yes",
         "Yes",
         "11",
         "No",
         "No phone service",
         "DSL",
         "Yes",
         "No",
         "No",
         "No",
         "No",
         "No",
         "Month-to-month",
         "Yes",
         "Electronic check",
         "29.6",
         "346.45",
         "No",
         "0",
         "59",
         "2793",
         null
        ],
        [
         "7042",
         "3186-AJIEK",
         "1",
         "United States",
         "California",
         "Apple Valley",
         "92308",
         "34.424926, -117.184503",
         "34.424926",
         "-117.184503",
         "Male",
         "No",
         "No",
         "No",
         "66",
         "Yes",
         "No",
         "Fiber optic",
         "Yes",
         "No",
         "Yes",
         "Yes",
         "Yes",
         "Yes",
         "Two year",
         "Yes",
         "Bank transfer (automatic)",
         "105.65",
         "6844.5",
         "No",
         "0",
         "38",
         "5097",
         null
        ]
       ],
       "shape": {
        "columns": 33,
        "rows": 5
       }
      },
      "text/html": [
       "<div>\n",
       "<style scoped>\n",
       "    .dataframe tbody tr th:only-of-type {\n",
       "        vertical-align: middle;\n",
       "    }\n",
       "\n",
       "    .dataframe tbody tr th {\n",
       "        vertical-align: top;\n",
       "    }\n",
       "\n",
       "    .dataframe thead th {\n",
       "        text-align: right;\n",
       "    }\n",
       "</style>\n",
       "<table border=\"1\" class=\"dataframe\">\n",
       "  <thead>\n",
       "    <tr style=\"text-align: right;\">\n",
       "      <th></th>\n",
       "      <th>CustomerID</th>\n",
       "      <th>Count</th>\n",
       "      <th>Country</th>\n",
       "      <th>State</th>\n",
       "      <th>City</th>\n",
       "      <th>Zip Code</th>\n",
       "      <th>Lat Long</th>\n",
       "      <th>Latitude</th>\n",
       "      <th>Longitude</th>\n",
       "      <th>Gender</th>\n",
       "      <th>...</th>\n",
       "      <th>Contract</th>\n",
       "      <th>Paperless Billing</th>\n",
       "      <th>Payment Method</th>\n",
       "      <th>Monthly Charges</th>\n",
       "      <th>Total Charges</th>\n",
       "      <th>Churn Label</th>\n",
       "      <th>Churn Value</th>\n",
       "      <th>Churn Score</th>\n",
       "      <th>CLTV</th>\n",
       "      <th>Churn Reason</th>\n",
       "    </tr>\n",
       "  </thead>\n",
       "  <tbody>\n",
       "    <tr>\n",
       "      <th>7038</th>\n",
       "      <td>2569-WGERO</td>\n",
       "      <td>1</td>\n",
       "      <td>United States</td>\n",
       "      <td>California</td>\n",
       "      <td>Landers</td>\n",
       "      <td>92285</td>\n",
       "      <td>34.341737, -116.539416</td>\n",
       "      <td>34.341737</td>\n",
       "      <td>-116.539416</td>\n",
       "      <td>Female</td>\n",
       "      <td>...</td>\n",
       "      <td>Two year</td>\n",
       "      <td>Yes</td>\n",
       "      <td>Bank transfer (automatic)</td>\n",
       "      <td>21.15</td>\n",
       "      <td>1419.4</td>\n",
       "      <td>No</td>\n",
       "      <td>0</td>\n",
       "      <td>45</td>\n",
       "      <td>5306</td>\n",
       "      <td>NaN</td>\n",
       "    </tr>\n",
       "    <tr>\n",
       "      <th>7039</th>\n",
       "      <td>6840-RESVB</td>\n",
       "      <td>1</td>\n",
       "      <td>United States</td>\n",
       "      <td>California</td>\n",
       "      <td>Adelanto</td>\n",
       "      <td>92301</td>\n",
       "      <td>34.667815, -117.536183</td>\n",
       "      <td>34.667815</td>\n",
       "      <td>-117.536183</td>\n",
       "      <td>Male</td>\n",
       "      <td>...</td>\n",
       "      <td>One year</td>\n",
       "      <td>Yes</td>\n",
       "      <td>Mailed check</td>\n",
       "      <td>84.80</td>\n",
       "      <td>1990.5</td>\n",
       "      <td>No</td>\n",
       "      <td>0</td>\n",
       "      <td>59</td>\n",
       "      <td>2140</td>\n",
       "      <td>NaN</td>\n",
       "    </tr>\n",
       "    <tr>\n",
       "      <th>7040</th>\n",
       "      <td>2234-XADUH</td>\n",
       "      <td>1</td>\n",
       "      <td>United States</td>\n",
       "      <td>California</td>\n",
       "      <td>Amboy</td>\n",
       "      <td>92304</td>\n",
       "      <td>34.559882, -115.637164</td>\n",
       "      <td>34.559882</td>\n",
       "      <td>-115.637164</td>\n",
       "      <td>Female</td>\n",
       "      <td>...</td>\n",
       "      <td>One year</td>\n",
       "      <td>Yes</td>\n",
       "      <td>Credit card (automatic)</td>\n",
       "      <td>103.20</td>\n",
       "      <td>7362.9</td>\n",
       "      <td>No</td>\n",
       "      <td>0</td>\n",
       "      <td>71</td>\n",
       "      <td>5560</td>\n",
       "      <td>NaN</td>\n",
       "    </tr>\n",
       "    <tr>\n",
       "      <th>7041</th>\n",
       "      <td>4801-JZAZL</td>\n",
       "      <td>1</td>\n",
       "      <td>United States</td>\n",
       "      <td>California</td>\n",
       "      <td>Angelus Oaks</td>\n",
       "      <td>92305</td>\n",
       "      <td>34.1678, -116.86433</td>\n",
       "      <td>34.167800</td>\n",
       "      <td>-116.864330</td>\n",
       "      <td>Female</td>\n",
       "      <td>...</td>\n",
       "      <td>Month-to-month</td>\n",
       "      <td>Yes</td>\n",
       "      <td>Electronic check</td>\n",
       "      <td>29.60</td>\n",
       "      <td>346.45</td>\n",
       "      <td>No</td>\n",
       "      <td>0</td>\n",
       "      <td>59</td>\n",
       "      <td>2793</td>\n",
       "      <td>NaN</td>\n",
       "    </tr>\n",
       "    <tr>\n",
       "      <th>7042</th>\n",
       "      <td>3186-AJIEK</td>\n",
       "      <td>1</td>\n",
       "      <td>United States</td>\n",
       "      <td>California</td>\n",
       "      <td>Apple Valley</td>\n",
       "      <td>92308</td>\n",
       "      <td>34.424926, -117.184503</td>\n",
       "      <td>34.424926</td>\n",
       "      <td>-117.184503</td>\n",
       "      <td>Male</td>\n",
       "      <td>...</td>\n",
       "      <td>Two year</td>\n",
       "      <td>Yes</td>\n",
       "      <td>Bank transfer (automatic)</td>\n",
       "      <td>105.65</td>\n",
       "      <td>6844.5</td>\n",
       "      <td>No</td>\n",
       "      <td>0</td>\n",
       "      <td>38</td>\n",
       "      <td>5097</td>\n",
       "      <td>NaN</td>\n",
       "    </tr>\n",
       "  </tbody>\n",
       "</table>\n",
       "<p>5 rows × 33 columns</p>\n",
       "</div>"
      ],
      "text/plain": [
       "      CustomerID  Count        Country       State          City  Zip Code  \\\n",
       "7038  2569-WGERO      1  United States  California       Landers     92285   \n",
       "7039  6840-RESVB      1  United States  California      Adelanto     92301   \n",
       "7040  2234-XADUH      1  United States  California         Amboy     92304   \n",
       "7041  4801-JZAZL      1  United States  California  Angelus Oaks     92305   \n",
       "7042  3186-AJIEK      1  United States  California  Apple Valley     92308   \n",
       "\n",
       "                    Lat Long   Latitude   Longitude  Gender  ...  \\\n",
       "7038  34.341737, -116.539416  34.341737 -116.539416  Female  ...   \n",
       "7039  34.667815, -117.536183  34.667815 -117.536183    Male  ...   \n",
       "7040  34.559882, -115.637164  34.559882 -115.637164  Female  ...   \n",
       "7041     34.1678, -116.86433  34.167800 -116.864330  Female  ...   \n",
       "7042  34.424926, -117.184503  34.424926 -117.184503    Male  ...   \n",
       "\n",
       "            Contract Paperless Billing             Payment Method  \\\n",
       "7038        Two year               Yes  Bank transfer (automatic)   \n",
       "7039        One year               Yes               Mailed check   \n",
       "7040        One year               Yes    Credit card (automatic)   \n",
       "7041  Month-to-month               Yes           Electronic check   \n",
       "7042        Two year               Yes  Bank transfer (automatic)   \n",
       "\n",
       "      Monthly Charges Total Charges Churn Label Churn Value Churn Score  CLTV  \\\n",
       "7038            21.15        1419.4          No           0          45  5306   \n",
       "7039            84.80        1990.5          No           0          59  2140   \n",
       "7040           103.20        7362.9          No           0          71  5560   \n",
       "7041            29.60        346.45          No           0          59  2793   \n",
       "7042           105.65        6844.5          No           0          38  5097   \n",
       "\n",
       "     Churn Reason  \n",
       "7038          NaN  \n",
       "7039          NaN  \n",
       "7040          NaN  \n",
       "7041          NaN  \n",
       "7042          NaN  \n",
       "\n",
       "[5 rows x 33 columns]"
      ]
     },
     "execution_count": 4,
     "metadata": {},
     "output_type": "execute_result"
    }
   ],
   "source": [
    "df.tail()"
   ]
  },
  {
   "cell_type": "code",
   "execution_count": 5,
   "id": "da8d37c8",
   "metadata": {},
   "outputs": [
    {
     "data": {
      "application/vnd.microsoft.datawrangler.viewer.v0+json": {
       "columns": [
        {
         "name": "index",
         "rawType": "int64",
         "type": "integer"
        },
        {
         "name": "CustomerID",
         "rawType": "object",
         "type": "string"
        },
        {
         "name": "Count",
         "rawType": "int64",
         "type": "integer"
        },
        {
         "name": "Country",
         "rawType": "object",
         "type": "string"
        },
        {
         "name": "State",
         "rawType": "object",
         "type": "string"
        },
        {
         "name": "City",
         "rawType": "object",
         "type": "string"
        },
        {
         "name": "Zip Code",
         "rawType": "int64",
         "type": "integer"
        },
        {
         "name": "Lat Long",
         "rawType": "object",
         "type": "string"
        },
        {
         "name": "Latitude",
         "rawType": "float64",
         "type": "float"
        },
        {
         "name": "Longitude",
         "rawType": "float64",
         "type": "float"
        },
        {
         "name": "Gender",
         "rawType": "object",
         "type": "string"
        },
        {
         "name": "Senior Citizen",
         "rawType": "object",
         "type": "string"
        },
        {
         "name": "Partner",
         "rawType": "object",
         "type": "string"
        },
        {
         "name": "Dependents",
         "rawType": "object",
         "type": "string"
        },
        {
         "name": "Tenure Months",
         "rawType": "int64",
         "type": "integer"
        },
        {
         "name": "Phone Service",
         "rawType": "object",
         "type": "string"
        },
        {
         "name": "Multiple Lines",
         "rawType": "object",
         "type": "string"
        },
        {
         "name": "Internet Service",
         "rawType": "object",
         "type": "string"
        },
        {
         "name": "Online Security",
         "rawType": "object",
         "type": "string"
        },
        {
         "name": "Online Backup",
         "rawType": "object",
         "type": "string"
        },
        {
         "name": "Device Protection",
         "rawType": "object",
         "type": "string"
        },
        {
         "name": "Tech Support",
         "rawType": "object",
         "type": "string"
        },
        {
         "name": "Streaming TV",
         "rawType": "object",
         "type": "string"
        },
        {
         "name": "Streaming Movies",
         "rawType": "object",
         "type": "string"
        },
        {
         "name": "Contract",
         "rawType": "object",
         "type": "string"
        },
        {
         "name": "Paperless Billing",
         "rawType": "object",
         "type": "string"
        },
        {
         "name": "Payment Method",
         "rawType": "object",
         "type": "string"
        },
        {
         "name": "Monthly Charges",
         "rawType": "float64",
         "type": "float"
        },
        {
         "name": "Total Charges",
         "rawType": "object",
         "type": "unknown"
        },
        {
         "name": "Churn Label",
         "rawType": "object",
         "type": "string"
        },
        {
         "name": "Churn Value",
         "rawType": "int64",
         "type": "integer"
        },
        {
         "name": "Churn Score",
         "rawType": "int64",
         "type": "integer"
        },
        {
         "name": "CLTV",
         "rawType": "int64",
         "type": "integer"
        },
        {
         "name": "Churn Reason",
         "rawType": "object",
         "type": "unknown"
        }
       ],
       "ref": "ad239874-b713-4f03-bd70-f136ce9d862a",
       "rows": [
        [
         "4432",
         "6483-OATDN",
         "1",
         "United States",
         "California",
         "Monrovia",
         "91016",
         "34.1528, -118.000482",
         "34.1528",
         "-118.000482",
         "Male",
         "No",
         "Yes",
         "Yes",
         "8",
         "Yes",
         "No",
         "DSL",
         "Yes",
         "No",
         "No",
         "No",
         "No",
         "No",
         "Month-to-month",
         "Yes",
         "Credit card (automatic)",
         "51.3",
         "411.6",
         "No",
         "0",
         "66",
         "2545",
         null
        ],
        [
         "1925",
         "2673-CXQEU",
         "1",
         "United States",
         "California",
         "Gardena",
         "90247",
         "33.890853, -118.297967",
         "33.890853",
         "-118.297967",
         "Female",
         "Yes",
         "No",
         "No",
         "56",
         "Yes",
         "Yes",
         "Fiber optic",
         "Yes",
         "Yes",
         "Yes",
         "No",
         "Yes",
         "Yes",
         "One year",
         "No",
         "Electronic check",
         "110.5",
         "6139.5",
         "No",
         "0",
         "21",
         "4463",
         null
        ],
        [
         "1003",
         "2533-QVMSK",
         "1",
         "United States",
         "California",
         "March Air Reserve Base",
         "92518",
         "33.888323, -117.277533",
         "33.888323",
         "-117.277533",
         "Male",
         "No",
         "Yes",
         "No",
         "61",
         "Yes",
         "Yes",
         "Fiber optic",
         "No",
         "Yes",
         "No",
         "Yes",
         "Yes",
         "No",
         "Two year",
         "Yes",
         "Electronic check",
         "94.1",
         "5638.3",
         "Yes",
         "1",
         "71",
         "6295",
         "Competitor offered more data"
        ],
        [
         "2719",
         "8807-ARQET",
         "1",
         "United States",
         "California",
         "Angels Camp",
         "95222",
         "38.071327, -120.632221",
         "38.071327",
         "-120.632221",
         "Female",
         "No",
         "No",
         "No",
         "41",
         "No",
         "No phone service",
         "DSL",
         "No",
         "Yes",
         "No",
         "No",
         "No",
         "Yes",
         "Month-to-month",
         "Yes",
         "Electronic check",
         "40.35",
         "1677.85",
         "No",
         "0",
         "79",
         "2454",
         null
        ],
        [
         "6618",
         "4868-AADLV",
         "1",
         "United States",
         "California",
         "Durham",
         "95938",
         "39.607831, -121.777959",
         "39.607831",
         "-121.777959",
         "Male",
         "Yes",
         "Yes",
         "Yes",
         "66",
         "Yes",
         "Yes",
         "Fiber optic",
         "Yes",
         "Yes",
         "Yes",
         "Yes",
         "Yes",
         "Yes",
         "One year",
         "Yes",
         "Electronic check",
         "116.25",
         "7862.25",
         "No",
         "0",
         "31",
         "4578",
         null
        ]
       ],
       "shape": {
        "columns": 33,
        "rows": 5
       }
      },
      "text/html": [
       "<div>\n",
       "<style scoped>\n",
       "    .dataframe tbody tr th:only-of-type {\n",
       "        vertical-align: middle;\n",
       "    }\n",
       "\n",
       "    .dataframe tbody tr th {\n",
       "        vertical-align: top;\n",
       "    }\n",
       "\n",
       "    .dataframe thead th {\n",
       "        text-align: right;\n",
       "    }\n",
       "</style>\n",
       "<table border=\"1\" class=\"dataframe\">\n",
       "  <thead>\n",
       "    <tr style=\"text-align: right;\">\n",
       "      <th></th>\n",
       "      <th>CustomerID</th>\n",
       "      <th>Count</th>\n",
       "      <th>Country</th>\n",
       "      <th>State</th>\n",
       "      <th>City</th>\n",
       "      <th>Zip Code</th>\n",
       "      <th>Lat Long</th>\n",
       "      <th>Latitude</th>\n",
       "      <th>Longitude</th>\n",
       "      <th>Gender</th>\n",
       "      <th>...</th>\n",
       "      <th>Contract</th>\n",
       "      <th>Paperless Billing</th>\n",
       "      <th>Payment Method</th>\n",
       "      <th>Monthly Charges</th>\n",
       "      <th>Total Charges</th>\n",
       "      <th>Churn Label</th>\n",
       "      <th>Churn Value</th>\n",
       "      <th>Churn Score</th>\n",
       "      <th>CLTV</th>\n",
       "      <th>Churn Reason</th>\n",
       "    </tr>\n",
       "  </thead>\n",
       "  <tbody>\n",
       "    <tr>\n",
       "      <th>4432</th>\n",
       "      <td>6483-OATDN</td>\n",
       "      <td>1</td>\n",
       "      <td>United States</td>\n",
       "      <td>California</td>\n",
       "      <td>Monrovia</td>\n",
       "      <td>91016</td>\n",
       "      <td>34.1528, -118.000482</td>\n",
       "      <td>34.152800</td>\n",
       "      <td>-118.000482</td>\n",
       "      <td>Male</td>\n",
       "      <td>...</td>\n",
       "      <td>Month-to-month</td>\n",
       "      <td>Yes</td>\n",
       "      <td>Credit card (automatic)</td>\n",
       "      <td>51.30</td>\n",
       "      <td>411.6</td>\n",
       "      <td>No</td>\n",
       "      <td>0</td>\n",
       "      <td>66</td>\n",
       "      <td>2545</td>\n",
       "      <td>NaN</td>\n",
       "    </tr>\n",
       "    <tr>\n",
       "      <th>1925</th>\n",
       "      <td>2673-CXQEU</td>\n",
       "      <td>1</td>\n",
       "      <td>United States</td>\n",
       "      <td>California</td>\n",
       "      <td>Gardena</td>\n",
       "      <td>90247</td>\n",
       "      <td>33.890853, -118.297967</td>\n",
       "      <td>33.890853</td>\n",
       "      <td>-118.297967</td>\n",
       "      <td>Female</td>\n",
       "      <td>...</td>\n",
       "      <td>One year</td>\n",
       "      <td>No</td>\n",
       "      <td>Electronic check</td>\n",
       "      <td>110.50</td>\n",
       "      <td>6139.5</td>\n",
       "      <td>No</td>\n",
       "      <td>0</td>\n",
       "      <td>21</td>\n",
       "      <td>4463</td>\n",
       "      <td>NaN</td>\n",
       "    </tr>\n",
       "    <tr>\n",
       "      <th>1003</th>\n",
       "      <td>2533-QVMSK</td>\n",
       "      <td>1</td>\n",
       "      <td>United States</td>\n",
       "      <td>California</td>\n",
       "      <td>March Air Reserve Base</td>\n",
       "      <td>92518</td>\n",
       "      <td>33.888323, -117.277533</td>\n",
       "      <td>33.888323</td>\n",
       "      <td>-117.277533</td>\n",
       "      <td>Male</td>\n",
       "      <td>...</td>\n",
       "      <td>Two year</td>\n",
       "      <td>Yes</td>\n",
       "      <td>Electronic check</td>\n",
       "      <td>94.10</td>\n",
       "      <td>5638.3</td>\n",
       "      <td>Yes</td>\n",
       "      <td>1</td>\n",
       "      <td>71</td>\n",
       "      <td>6295</td>\n",
       "      <td>Competitor offered more data</td>\n",
       "    </tr>\n",
       "    <tr>\n",
       "      <th>2719</th>\n",
       "      <td>8807-ARQET</td>\n",
       "      <td>1</td>\n",
       "      <td>United States</td>\n",
       "      <td>California</td>\n",
       "      <td>Angels Camp</td>\n",
       "      <td>95222</td>\n",
       "      <td>38.071327, -120.632221</td>\n",
       "      <td>38.071327</td>\n",
       "      <td>-120.632221</td>\n",
       "      <td>Female</td>\n",
       "      <td>...</td>\n",
       "      <td>Month-to-month</td>\n",
       "      <td>Yes</td>\n",
       "      <td>Electronic check</td>\n",
       "      <td>40.35</td>\n",
       "      <td>1677.85</td>\n",
       "      <td>No</td>\n",
       "      <td>0</td>\n",
       "      <td>79</td>\n",
       "      <td>2454</td>\n",
       "      <td>NaN</td>\n",
       "    </tr>\n",
       "    <tr>\n",
       "      <th>6618</th>\n",
       "      <td>4868-AADLV</td>\n",
       "      <td>1</td>\n",
       "      <td>United States</td>\n",
       "      <td>California</td>\n",
       "      <td>Durham</td>\n",
       "      <td>95938</td>\n",
       "      <td>39.607831, -121.777959</td>\n",
       "      <td>39.607831</td>\n",
       "      <td>-121.777959</td>\n",
       "      <td>Male</td>\n",
       "      <td>...</td>\n",
       "      <td>One year</td>\n",
       "      <td>Yes</td>\n",
       "      <td>Electronic check</td>\n",
       "      <td>116.25</td>\n",
       "      <td>7862.25</td>\n",
       "      <td>No</td>\n",
       "      <td>0</td>\n",
       "      <td>31</td>\n",
       "      <td>4578</td>\n",
       "      <td>NaN</td>\n",
       "    </tr>\n",
       "  </tbody>\n",
       "</table>\n",
       "<p>5 rows × 33 columns</p>\n",
       "</div>"
      ],
      "text/plain": [
       "      CustomerID  Count        Country       State                    City  \\\n",
       "4432  6483-OATDN      1  United States  California                Monrovia   \n",
       "1925  2673-CXQEU      1  United States  California                 Gardena   \n",
       "1003  2533-QVMSK      1  United States  California  March Air Reserve Base   \n",
       "2719  8807-ARQET      1  United States  California             Angels Camp   \n",
       "6618  4868-AADLV      1  United States  California                  Durham   \n",
       "\n",
       "      Zip Code                Lat Long   Latitude   Longitude  Gender  ...  \\\n",
       "4432     91016    34.1528, -118.000482  34.152800 -118.000482    Male  ...   \n",
       "1925     90247  33.890853, -118.297967  33.890853 -118.297967  Female  ...   \n",
       "1003     92518  33.888323, -117.277533  33.888323 -117.277533    Male  ...   \n",
       "2719     95222  38.071327, -120.632221  38.071327 -120.632221  Female  ...   \n",
       "6618     95938  39.607831, -121.777959  39.607831 -121.777959    Male  ...   \n",
       "\n",
       "            Contract Paperless Billing           Payment Method  \\\n",
       "4432  Month-to-month               Yes  Credit card (automatic)   \n",
       "1925        One year                No         Electronic check   \n",
       "1003        Two year               Yes         Electronic check   \n",
       "2719  Month-to-month               Yes         Electronic check   \n",
       "6618        One year               Yes         Electronic check   \n",
       "\n",
       "      Monthly Charges Total Charges Churn Label Churn Value Churn Score  CLTV  \\\n",
       "4432            51.30         411.6          No           0          66  2545   \n",
       "1925           110.50        6139.5          No           0          21  4463   \n",
       "1003            94.10        5638.3         Yes           1          71  6295   \n",
       "2719            40.35       1677.85          No           0          79  2454   \n",
       "6618           116.25       7862.25          No           0          31  4578   \n",
       "\n",
       "                      Churn Reason  \n",
       "4432                           NaN  \n",
       "1925                           NaN  \n",
       "1003  Competitor offered more data  \n",
       "2719                           NaN  \n",
       "6618                           NaN  \n",
       "\n",
       "[5 rows x 33 columns]"
      ]
     },
     "execution_count": 5,
     "metadata": {},
     "output_type": "execute_result"
    }
   ],
   "source": [
    "df.sample(n=5)"
   ]
  },
  {
   "cell_type": "code",
   "execution_count": 6,
   "id": "e3928547",
   "metadata": {},
   "outputs": [
    {
     "name": "stdout",
     "output_type": "stream",
     "text": [
      "<class 'pandas.core.frame.DataFrame'>\n",
      "RangeIndex: 7043 entries, 0 to 7042\n",
      "Data columns (total 33 columns):\n",
      " #   Column             Non-Null Count  Dtype  \n",
      "---  ------             --------------  -----  \n",
      " 0   CustomerID         7043 non-null   object \n",
      " 1   Count              7043 non-null   int64  \n",
      " 2   Country            7043 non-null   object \n",
      " 3   State              7043 non-null   object \n",
      " 4   City               7043 non-null   object \n",
      " 5   Zip Code           7043 non-null   int64  \n",
      " 6   Lat Long           7043 non-null   object \n",
      " 7   Latitude           7043 non-null   float64\n",
      " 8   Longitude          7043 non-null   float64\n",
      " 9   Gender             7043 non-null   object \n",
      " 10  Senior Citizen     7043 non-null   object \n",
      " 11  Partner            7043 non-null   object \n",
      " 12  Dependents         7043 non-null   object \n",
      " 13  Tenure Months      7043 non-null   int64  \n",
      " 14  Phone Service      7043 non-null   object \n",
      " 15  Multiple Lines     7043 non-null   object \n",
      " 16  Internet Service   7043 non-null   object \n",
      " 17  Online Security    7043 non-null   object \n",
      " 18  Online Backup      7043 non-null   object \n",
      " 19  Device Protection  7043 non-null   object \n",
      " 20  Tech Support       7043 non-null   object \n",
      " 21  Streaming TV       7043 non-null   object \n",
      " 22  Streaming Movies   7043 non-null   object \n",
      " 23  Contract           7043 non-null   object \n",
      " 24  Paperless Billing  7043 non-null   object \n",
      " 25  Payment Method     7043 non-null   object \n",
      " 26  Monthly Charges    7043 non-null   float64\n",
      " 27  Total Charges      7043 non-null   object \n",
      " 28  Churn Label        7043 non-null   object \n",
      " 29  Churn Value        7043 non-null   int64  \n",
      " 30  Churn Score        7043 non-null   int64  \n",
      " 31  CLTV               7043 non-null   int64  \n",
      " 32  Churn Reason       1869 non-null   object \n",
      "dtypes: float64(3), int64(6), object(24)\n",
      "memory usage: 1.8+ MB\n"
     ]
    }
   ],
   "source": [
    "df.info()"
   ]
  },
  {
   "cell_type": "code",
   "execution_count": 7,
   "id": "d87692c4",
   "metadata": {},
   "outputs": [
    {
     "data": {
      "text/plain": [
       "[RangeIndex(start=0, stop=7043, step=1),\n",
       " Index(['CustomerID', 'Count', 'Country', 'State', 'City', 'Zip Code',\n",
       "        'Lat Long', 'Latitude', 'Longitude', 'Gender', 'Senior Citizen',\n",
       "        'Partner', 'Dependents', 'Tenure Months', 'Phone Service',\n",
       "        'Multiple Lines', 'Internet Service', 'Online Security',\n",
       "        'Online Backup', 'Device Protection', 'Tech Support', 'Streaming TV',\n",
       "        'Streaming Movies', 'Contract', 'Paperless Billing', 'Payment Method',\n",
       "        'Monthly Charges', 'Total Charges', 'Churn Label', 'Churn Value',\n",
       "        'Churn Score', 'CLTV', 'Churn Reason'],\n",
       "       dtype='object')]"
      ]
     },
     "execution_count": 7,
     "metadata": {},
     "output_type": "execute_result"
    }
   ],
   "source": [
    "df.axes"
   ]
  },
  {
   "cell_type": "markdown",
   "id": "29e8d2a8",
   "metadata": {},
   "source": [
    "Dedicate function (own) clean_columns to normalizes columns name"
   ]
  },
  {
   "cell_type": "code",
   "execution_count": 8,
   "id": "c96bf198",
   "metadata": {},
   "outputs": [],
   "source": [
    "df = clean_columns(df)"
   ]
  },
  {
   "cell_type": "code",
   "execution_count": 9,
   "id": "ba110db2",
   "metadata": {},
   "outputs": [
    {
     "data": {
      "text/plain": [
       "[RangeIndex(start=0, stop=7043, step=1),\n",
       " Index(['customer_id', 'count', 'country', 'state', 'city', 'zip_code',\n",
       "        'lat_long', 'latitude', 'longitude', 'gender', 'senior_citizen',\n",
       "        'partner', 'dependents', 'tenure_months', 'phone_service',\n",
       "        'multiple_lines', 'internet_service', 'online_security',\n",
       "        'online_backup', 'device_protection', 'tech_support', 'streaming_tv',\n",
       "        'streaming_movies', 'contract', 'paperless_billing', 'payment_method',\n",
       "        'monthly_charges', 'total_charges', 'churn_label', 'churn_value',\n",
       "        'churn_score', 'cltv', 'churn_reason'],\n",
       "       dtype='object')]"
      ]
     },
     "execution_count": 9,
     "metadata": {},
     "output_type": "execute_result"
    }
   ],
   "source": [
    "df.axes"
   ]
  },
  {
   "cell_type": "code",
   "execution_count": 10,
   "id": "481d11dd",
   "metadata": {},
   "outputs": [
    {
     "data": {
      "application/vnd.microsoft.datawrangler.viewer.v0+json": {
       "columns": [
        {
         "name": "index",
         "rawType": "object",
         "type": "string"
        },
        {
         "name": "dtype",
         "rawType": "object",
         "type": "string"
        },
        {
         "name": "nunique",
         "rawType": "int64",
         "type": "integer"
        },
        {
         "name": "isnull",
         "rawType": "int64",
         "type": "integer"
        },
        {
         "name": "isnull [%]",
         "rawType": "float64",
         "type": "float"
        },
        {
         "name": "duplicates",
         "rawType": "int64",
         "type": "integer"
        },
        {
         "name": "duplicates [%]",
         "rawType": "float64",
         "type": "float"
        }
       ],
       "ref": "ff3e1489-b1af-43e5-8a44-e973280a3e81",
       "rows": [
        [
         "customer_id",
         "object",
         "7043",
         "0",
         "0.0",
         "0",
         "0.0"
        ],
        [
         "count",
         "int64",
         "1",
         "0",
         "0.0",
         "7043",
         "100.0"
        ],
        [
         "country",
         "object",
         "1",
         "0",
         "0.0",
         "7043",
         "100.0"
        ],
        [
         "state",
         "object",
         "1",
         "0",
         "0.0",
         "7043",
         "100.0"
        ],
        [
         "city",
         "object",
         "1129",
         "0",
         "0.0",
         "7043",
         "100.0"
        ],
        [
         "zip_code",
         "int64",
         "1652",
         "0",
         "0.0",
         "7043",
         "100.0"
        ],
        [
         "lat_long",
         "object",
         "1652",
         "0",
         "0.0",
         "7043",
         "100.0"
        ],
        [
         "latitude",
         "float64",
         "1652",
         "0",
         "0.0",
         "7043",
         "100.0"
        ],
        [
         "longitude",
         "float64",
         "1651",
         "0",
         "0.0",
         "7043",
         "100.0"
        ],
        [
         "gender",
         "object",
         "2",
         "0",
         "0.0",
         "7043",
         "100.0"
        ],
        [
         "senior_citizen",
         "object",
         "2",
         "0",
         "0.0",
         "7043",
         "100.0"
        ],
        [
         "partner",
         "object",
         "2",
         "0",
         "0.0",
         "7043",
         "100.0"
        ],
        [
         "dependents",
         "object",
         "2",
         "0",
         "0.0",
         "7043",
         "100.0"
        ],
        [
         "tenure_months",
         "int64",
         "73",
         "0",
         "0.0",
         "7043",
         "100.0"
        ],
        [
         "phone_service",
         "object",
         "2",
         "0",
         "0.0",
         "7043",
         "100.0"
        ],
        [
         "multiple_lines",
         "object",
         "3",
         "0",
         "0.0",
         "7043",
         "100.0"
        ],
        [
         "internet_service",
         "object",
         "3",
         "0",
         "0.0",
         "7043",
         "100.0"
        ],
        [
         "online_security",
         "object",
         "3",
         "0",
         "0.0",
         "7043",
         "100.0"
        ],
        [
         "online_backup",
         "object",
         "3",
         "0",
         "0.0",
         "7043",
         "100.0"
        ],
        [
         "device_protection",
         "object",
         "3",
         "0",
         "0.0",
         "7043",
         "100.0"
        ],
        [
         "tech_support",
         "object",
         "3",
         "0",
         "0.0",
         "7043",
         "100.0"
        ],
        [
         "streaming_tv",
         "object",
         "3",
         "0",
         "0.0",
         "7043",
         "100.0"
        ],
        [
         "streaming_movies",
         "object",
         "3",
         "0",
         "0.0",
         "7043",
         "100.0"
        ],
        [
         "contract",
         "object",
         "3",
         "0",
         "0.0",
         "7043",
         "100.0"
        ],
        [
         "paperless_billing",
         "object",
         "2",
         "0",
         "0.0",
         "7043",
         "100.0"
        ],
        [
         "payment_method",
         "object",
         "4",
         "0",
         "0.0",
         "7043",
         "100.0"
        ],
        [
         "monthly_charges",
         "float64",
         "1585",
         "0",
         "0.0",
         "6662",
         "94.59"
        ],
        [
         "total_charges",
         "object",
         "6531",
         "0",
         "0.0",
         "871",
         "12.37"
        ],
        [
         "churn_label",
         "object",
         "2",
         "0",
         "0.0",
         "7043",
         "100.0"
        ],
        [
         "churn_value",
         "int64",
         "2",
         "0",
         "0.0",
         "7043",
         "100.0"
        ],
        [
         "churn_score",
         "int64",
         "85",
         "0",
         "0.0",
         "7042",
         "99.99"
        ],
        [
         "cltv",
         "int64",
         "3438",
         "0",
         "0.0",
         "5636",
         "80.02"
        ],
        [
         "churn_reason",
         "object",
         "21",
         "5174",
         "73.46",
         "7043",
         "100.0"
        ]
       ],
       "shape": {
        "columns": 6,
        "rows": 33
       }
      },
      "text/html": [
       "<div>\n",
       "<style scoped>\n",
       "    .dataframe tbody tr th:only-of-type {\n",
       "        vertical-align: middle;\n",
       "    }\n",
       "\n",
       "    .dataframe tbody tr th {\n",
       "        vertical-align: top;\n",
       "    }\n",
       "\n",
       "    .dataframe thead th {\n",
       "        text-align: right;\n",
       "    }\n",
       "</style>\n",
       "<table border=\"1\" class=\"dataframe\">\n",
       "  <thead>\n",
       "    <tr style=\"text-align: right;\">\n",
       "      <th></th>\n",
       "      <th>dtype</th>\n",
       "      <th>nunique</th>\n",
       "      <th>isnull</th>\n",
       "      <th>isnull [%]</th>\n",
       "      <th>duplicates</th>\n",
       "      <th>duplicates [%]</th>\n",
       "    </tr>\n",
       "  </thead>\n",
       "  <tbody>\n",
       "    <tr>\n",
       "      <th>customer_id</th>\n",
       "      <td>object</td>\n",
       "      <td>7043</td>\n",
       "      <td>0</td>\n",
       "      <td>0.00</td>\n",
       "      <td>0</td>\n",
       "      <td>0.00</td>\n",
       "    </tr>\n",
       "    <tr>\n",
       "      <th>count</th>\n",
       "      <td>int64</td>\n",
       "      <td>1</td>\n",
       "      <td>0</td>\n",
       "      <td>0.00</td>\n",
       "      <td>7043</td>\n",
       "      <td>100.00</td>\n",
       "    </tr>\n",
       "    <tr>\n",
       "      <th>country</th>\n",
       "      <td>object</td>\n",
       "      <td>1</td>\n",
       "      <td>0</td>\n",
       "      <td>0.00</td>\n",
       "      <td>7043</td>\n",
       "      <td>100.00</td>\n",
       "    </tr>\n",
       "    <tr>\n",
       "      <th>state</th>\n",
       "      <td>object</td>\n",
       "      <td>1</td>\n",
       "      <td>0</td>\n",
       "      <td>0.00</td>\n",
       "      <td>7043</td>\n",
       "      <td>100.00</td>\n",
       "    </tr>\n",
       "    <tr>\n",
       "      <th>city</th>\n",
       "      <td>object</td>\n",
       "      <td>1129</td>\n",
       "      <td>0</td>\n",
       "      <td>0.00</td>\n",
       "      <td>7043</td>\n",
       "      <td>100.00</td>\n",
       "    </tr>\n",
       "    <tr>\n",
       "      <th>zip_code</th>\n",
       "      <td>int64</td>\n",
       "      <td>1652</td>\n",
       "      <td>0</td>\n",
       "      <td>0.00</td>\n",
       "      <td>7043</td>\n",
       "      <td>100.00</td>\n",
       "    </tr>\n",
       "    <tr>\n",
       "      <th>lat_long</th>\n",
       "      <td>object</td>\n",
       "      <td>1652</td>\n",
       "      <td>0</td>\n",
       "      <td>0.00</td>\n",
       "      <td>7043</td>\n",
       "      <td>100.00</td>\n",
       "    </tr>\n",
       "    <tr>\n",
       "      <th>latitude</th>\n",
       "      <td>float64</td>\n",
       "      <td>1652</td>\n",
       "      <td>0</td>\n",
       "      <td>0.00</td>\n",
       "      <td>7043</td>\n",
       "      <td>100.00</td>\n",
       "    </tr>\n",
       "    <tr>\n",
       "      <th>longitude</th>\n",
       "      <td>float64</td>\n",
       "      <td>1651</td>\n",
       "      <td>0</td>\n",
       "      <td>0.00</td>\n",
       "      <td>7043</td>\n",
       "      <td>100.00</td>\n",
       "    </tr>\n",
       "    <tr>\n",
       "      <th>gender</th>\n",
       "      <td>object</td>\n",
       "      <td>2</td>\n",
       "      <td>0</td>\n",
       "      <td>0.00</td>\n",
       "      <td>7043</td>\n",
       "      <td>100.00</td>\n",
       "    </tr>\n",
       "    <tr>\n",
       "      <th>senior_citizen</th>\n",
       "      <td>object</td>\n",
       "      <td>2</td>\n",
       "      <td>0</td>\n",
       "      <td>0.00</td>\n",
       "      <td>7043</td>\n",
       "      <td>100.00</td>\n",
       "    </tr>\n",
       "    <tr>\n",
       "      <th>partner</th>\n",
       "      <td>object</td>\n",
       "      <td>2</td>\n",
       "      <td>0</td>\n",
       "      <td>0.00</td>\n",
       "      <td>7043</td>\n",
       "      <td>100.00</td>\n",
       "    </tr>\n",
       "    <tr>\n",
       "      <th>dependents</th>\n",
       "      <td>object</td>\n",
       "      <td>2</td>\n",
       "      <td>0</td>\n",
       "      <td>0.00</td>\n",
       "      <td>7043</td>\n",
       "      <td>100.00</td>\n",
       "    </tr>\n",
       "    <tr>\n",
       "      <th>tenure_months</th>\n",
       "      <td>int64</td>\n",
       "      <td>73</td>\n",
       "      <td>0</td>\n",
       "      <td>0.00</td>\n",
       "      <td>7043</td>\n",
       "      <td>100.00</td>\n",
       "    </tr>\n",
       "    <tr>\n",
       "      <th>phone_service</th>\n",
       "      <td>object</td>\n",
       "      <td>2</td>\n",
       "      <td>0</td>\n",
       "      <td>0.00</td>\n",
       "      <td>7043</td>\n",
       "      <td>100.00</td>\n",
       "    </tr>\n",
       "    <tr>\n",
       "      <th>multiple_lines</th>\n",
       "      <td>object</td>\n",
       "      <td>3</td>\n",
       "      <td>0</td>\n",
       "      <td>0.00</td>\n",
       "      <td>7043</td>\n",
       "      <td>100.00</td>\n",
       "    </tr>\n",
       "    <tr>\n",
       "      <th>internet_service</th>\n",
       "      <td>object</td>\n",
       "      <td>3</td>\n",
       "      <td>0</td>\n",
       "      <td>0.00</td>\n",
       "      <td>7043</td>\n",
       "      <td>100.00</td>\n",
       "    </tr>\n",
       "    <tr>\n",
       "      <th>online_security</th>\n",
       "      <td>object</td>\n",
       "      <td>3</td>\n",
       "      <td>0</td>\n",
       "      <td>0.00</td>\n",
       "      <td>7043</td>\n",
       "      <td>100.00</td>\n",
       "    </tr>\n",
       "    <tr>\n",
       "      <th>online_backup</th>\n",
       "      <td>object</td>\n",
       "      <td>3</td>\n",
       "      <td>0</td>\n",
       "      <td>0.00</td>\n",
       "      <td>7043</td>\n",
       "      <td>100.00</td>\n",
       "    </tr>\n",
       "    <tr>\n",
       "      <th>device_protection</th>\n",
       "      <td>object</td>\n",
       "      <td>3</td>\n",
       "      <td>0</td>\n",
       "      <td>0.00</td>\n",
       "      <td>7043</td>\n",
       "      <td>100.00</td>\n",
       "    </tr>\n",
       "    <tr>\n",
       "      <th>tech_support</th>\n",
       "      <td>object</td>\n",
       "      <td>3</td>\n",
       "      <td>0</td>\n",
       "      <td>0.00</td>\n",
       "      <td>7043</td>\n",
       "      <td>100.00</td>\n",
       "    </tr>\n",
       "    <tr>\n",
       "      <th>streaming_tv</th>\n",
       "      <td>object</td>\n",
       "      <td>3</td>\n",
       "      <td>0</td>\n",
       "      <td>0.00</td>\n",
       "      <td>7043</td>\n",
       "      <td>100.00</td>\n",
       "    </tr>\n",
       "    <tr>\n",
       "      <th>streaming_movies</th>\n",
       "      <td>object</td>\n",
       "      <td>3</td>\n",
       "      <td>0</td>\n",
       "      <td>0.00</td>\n",
       "      <td>7043</td>\n",
       "      <td>100.00</td>\n",
       "    </tr>\n",
       "    <tr>\n",
       "      <th>contract</th>\n",
       "      <td>object</td>\n",
       "      <td>3</td>\n",
       "      <td>0</td>\n",
       "      <td>0.00</td>\n",
       "      <td>7043</td>\n",
       "      <td>100.00</td>\n",
       "    </tr>\n",
       "    <tr>\n",
       "      <th>paperless_billing</th>\n",
       "      <td>object</td>\n",
       "      <td>2</td>\n",
       "      <td>0</td>\n",
       "      <td>0.00</td>\n",
       "      <td>7043</td>\n",
       "      <td>100.00</td>\n",
       "    </tr>\n",
       "    <tr>\n",
       "      <th>payment_method</th>\n",
       "      <td>object</td>\n",
       "      <td>4</td>\n",
       "      <td>0</td>\n",
       "      <td>0.00</td>\n",
       "      <td>7043</td>\n",
       "      <td>100.00</td>\n",
       "    </tr>\n",
       "    <tr>\n",
       "      <th>monthly_charges</th>\n",
       "      <td>float64</td>\n",
       "      <td>1585</td>\n",
       "      <td>0</td>\n",
       "      <td>0.00</td>\n",
       "      <td>6662</td>\n",
       "      <td>94.59</td>\n",
       "    </tr>\n",
       "    <tr>\n",
       "      <th>total_charges</th>\n",
       "      <td>object</td>\n",
       "      <td>6531</td>\n",
       "      <td>0</td>\n",
       "      <td>0.00</td>\n",
       "      <td>871</td>\n",
       "      <td>12.37</td>\n",
       "    </tr>\n",
       "    <tr>\n",
       "      <th>churn_label</th>\n",
       "      <td>object</td>\n",
       "      <td>2</td>\n",
       "      <td>0</td>\n",
       "      <td>0.00</td>\n",
       "      <td>7043</td>\n",
       "      <td>100.00</td>\n",
       "    </tr>\n",
       "    <tr>\n",
       "      <th>churn_value</th>\n",
       "      <td>int64</td>\n",
       "      <td>2</td>\n",
       "      <td>0</td>\n",
       "      <td>0.00</td>\n",
       "      <td>7043</td>\n",
       "      <td>100.00</td>\n",
       "    </tr>\n",
       "    <tr>\n",
       "      <th>churn_score</th>\n",
       "      <td>int64</td>\n",
       "      <td>85</td>\n",
       "      <td>0</td>\n",
       "      <td>0.00</td>\n",
       "      <td>7042</td>\n",
       "      <td>99.99</td>\n",
       "    </tr>\n",
       "    <tr>\n",
       "      <th>cltv</th>\n",
       "      <td>int64</td>\n",
       "      <td>3438</td>\n",
       "      <td>0</td>\n",
       "      <td>0.00</td>\n",
       "      <td>5636</td>\n",
       "      <td>80.02</td>\n",
       "    </tr>\n",
       "    <tr>\n",
       "      <th>churn_reason</th>\n",
       "      <td>object</td>\n",
       "      <td>21</td>\n",
       "      <td>5174</td>\n",
       "      <td>73.46</td>\n",
       "      <td>7043</td>\n",
       "      <td>100.00</td>\n",
       "    </tr>\n",
       "  </tbody>\n",
       "</table>\n",
       "</div>"
      ],
      "text/plain": [
       "                     dtype  nunique  isnull  isnull [%]  duplicates  \\\n",
       "customer_id         object     7043       0        0.00           0   \n",
       "count                int64        1       0        0.00        7043   \n",
       "country             object        1       0        0.00        7043   \n",
       "state               object        1       0        0.00        7043   \n",
       "city                object     1129       0        0.00        7043   \n",
       "zip_code             int64     1652       0        0.00        7043   \n",
       "lat_long            object     1652       0        0.00        7043   \n",
       "latitude           float64     1652       0        0.00        7043   \n",
       "longitude          float64     1651       0        0.00        7043   \n",
       "gender              object        2       0        0.00        7043   \n",
       "senior_citizen      object        2       0        0.00        7043   \n",
       "partner             object        2       0        0.00        7043   \n",
       "dependents          object        2       0        0.00        7043   \n",
       "tenure_months        int64       73       0        0.00        7043   \n",
       "phone_service       object        2       0        0.00        7043   \n",
       "multiple_lines      object        3       0        0.00        7043   \n",
       "internet_service    object        3       0        0.00        7043   \n",
       "online_security     object        3       0        0.00        7043   \n",
       "online_backup       object        3       0        0.00        7043   \n",
       "device_protection   object        3       0        0.00        7043   \n",
       "tech_support        object        3       0        0.00        7043   \n",
       "streaming_tv        object        3       0        0.00        7043   \n",
       "streaming_movies    object        3       0        0.00        7043   \n",
       "contract            object        3       0        0.00        7043   \n",
       "paperless_billing   object        2       0        0.00        7043   \n",
       "payment_method      object        4       0        0.00        7043   \n",
       "monthly_charges    float64     1585       0        0.00        6662   \n",
       "total_charges       object     6531       0        0.00         871   \n",
       "churn_label         object        2       0        0.00        7043   \n",
       "churn_value          int64        2       0        0.00        7043   \n",
       "churn_score          int64       85       0        0.00        7042   \n",
       "cltv                 int64     3438       0        0.00        5636   \n",
       "churn_reason        object       21    5174       73.46        7043   \n",
       "\n",
       "                   duplicates [%]  \n",
       "customer_id                  0.00  \n",
       "count                      100.00  \n",
       "country                    100.00  \n",
       "state                      100.00  \n",
       "city                       100.00  \n",
       "zip_code                   100.00  \n",
       "lat_long                   100.00  \n",
       "latitude                   100.00  \n",
       "longitude                  100.00  \n",
       "gender                     100.00  \n",
       "senior_citizen             100.00  \n",
       "partner                    100.00  \n",
       "dependents                 100.00  \n",
       "tenure_months              100.00  \n",
       "phone_service              100.00  \n",
       "multiple_lines             100.00  \n",
       "internet_service           100.00  \n",
       "online_security            100.00  \n",
       "online_backup              100.00  \n",
       "device_protection          100.00  \n",
       "tech_support               100.00  \n",
       "streaming_tv               100.00  \n",
       "streaming_movies           100.00  \n",
       "contract                   100.00  \n",
       "paperless_billing          100.00  \n",
       "payment_method             100.00  \n",
       "monthly_charges             94.59  \n",
       "total_charges               12.37  \n",
       "churn_label                100.00  \n",
       "churn_value                100.00  \n",
       "churn_score                 99.99  \n",
       "cltv                        80.02  \n",
       "churn_reason               100.00  "
      ]
     },
     "execution_count": 10,
     "metadata": {},
     "output_type": "execute_result"
    }
   ],
   "source": [
    "summary = (\n",
    "    df.dtypes.astype(str).to_frame('dtype')\n",
    "      .join(df.nunique(dropna=False).to_frame('nunique'))\n",
    "      .join(df.isnull().sum().sort_values(ascending=False).to_frame('isnull'))\n",
    "      .join((df.isnull().mean()*100).round(2).sort_values(ascending=False).to_frame('isnull [%]'))\n",
    "      .join(df.apply(lambda x: x.duplicated(keep=False).sum()).to_frame('duplicates'))\n",
    "      .join(df.apply(lambda x: (x.duplicated(keep=False).mean() * 100).round(2)).to_frame('duplicates [%]'))\n",
    ")\n",
    "\n",
    "summary"
   ]
  },
  {
   "cell_type": "code",
   "execution_count": 11,
   "id": "1ad39cd6",
   "metadata": {},
   "outputs": [
    {
     "data": {
      "application/vnd.microsoft.datawrangler.viewer.v0+json": {
       "columns": [
        {
         "name": "index",
         "rawType": "object",
         "type": "unknown"
        },
        {
         "name": "count",
         "rawType": "int64",
         "type": "integer"
        }
       ],
       "ref": "234ae735-9ea3-4e39-95d2-674c0dedd7c7",
       "rows": [
        [
         "object",
         "24"
        ],
        [
         "int64",
         "6"
        ],
        [
         "float64",
         "3"
        ]
       ],
       "shape": {
        "columns": 1,
        "rows": 3
       }
      },
      "text/plain": [
       "object     24\n",
       "int64       6\n",
       "float64     3\n",
       "Name: count, dtype: int64"
      ]
     },
     "execution_count": 11,
     "metadata": {},
     "output_type": "execute_result"
    }
   ],
   "source": [
    "df.dtypes.value_counts()"
   ]
  },
  {
   "cell_type": "code",
   "execution_count": 12,
   "id": "d691ae71",
   "metadata": {},
   "outputs": [
    {
     "data": {
      "text/plain": [
       "np.int64(0)"
      ]
     },
     "execution_count": 12,
     "metadata": {},
     "output_type": "execute_result"
    }
   ],
   "source": [
    "df.duplicated().sum()"
   ]
  },
  {
   "cell_type": "code",
   "execution_count": 13,
   "id": "29fbb8ff",
   "metadata": {},
   "outputs": [
    {
     "data": {
      "text/plain": [
       "{'count': [1],\n",
       " 'country': ['United States'],\n",
       " 'state': ['California'],\n",
       " 'gender': ['Male', 'Female'],\n",
       " 'senior_citizen': ['No', 'Yes'],\n",
       " 'partner': ['No', 'Yes'],\n",
       " 'dependents': ['No', 'Yes'],\n",
       " 'phone_service': ['Yes', 'No'],\n",
       " 'multiple_lines': ['No', 'Yes', 'No phone service'],\n",
       " 'internet_service': ['DSL', 'Fiber optic', 'No'],\n",
       " 'online_security': ['Yes', 'No', 'No internet service'],\n",
       " 'online_backup': ['Yes', 'No', 'No internet service'],\n",
       " 'device_protection': ['No', 'Yes', 'No internet service'],\n",
       " 'tech_support': ['No', 'Yes', 'No internet service'],\n",
       " 'streaming_tv': ['No', 'Yes', 'No internet service'],\n",
       " 'streaming_movies': ['No', 'Yes', 'No internet service'],\n",
       " 'contract': ['Month-to-month', 'Two year', 'One year'],\n",
       " 'paperless_billing': ['Yes', 'No'],\n",
       " 'payment_method': ['Mailed check',\n",
       "  'Electronic check',\n",
       "  'Bank transfer (automatic)',\n",
       "  'Credit card (automatic)'],\n",
       " 'churn_label': ['Yes', 'No'],\n",
       " 'churn_value': [1, 0]}"
      ]
     },
     "execution_count": 13,
     "metadata": {},
     "output_type": "execute_result"
    }
   ],
   "source": [
    "cols = ['count',\n",
    "        'country',\n",
    "        'state',\n",
    "        'gender', \n",
    "        'senior_citizen', \n",
    "        'partner', \n",
    "        'dependents', \n",
    "        'phone_service', \n",
    "        'multiple_lines', \n",
    "        'internet_service', \n",
    "        'online_security', \n",
    "        'online_backup', \n",
    "        'device_protection', \n",
    "        'tech_support', \n",
    "        'streaming_tv', \n",
    "        'streaming_movies', \n",
    "        'contract', \n",
    "        'paperless_billing', \n",
    "        'payment_method',\n",
    "        'churn_label',\n",
    "        'churn_value']\n",
    "\n",
    "uniques = {c: df[c].dropna().unique().tolist() for c in cols}\n",
    "uniques"
   ]
  },
  {
   "cell_type": "markdown",
   "id": "df0912e2",
   "metadata": {},
   "source": [
    "### Missing values `in churn_reason`"
   ]
  },
  {
   "cell_type": "code",
   "execution_count": 14,
   "id": "53ba94cf",
   "metadata": {},
   "outputs": [
    {
     "data": {
      "application/vnd.microsoft.datawrangler.viewer.v0+json": {
       "columns": [
        {
         "name": "churn_label",
         "rawType": "object",
         "type": "string"
        },
        {
         "name": "count",
         "rawType": "int64",
         "type": "integer"
        }
       ],
       "ref": "52c30c90-c3e4-4b4a-b013-8eb160a8b9fe",
       "rows": [
        [
         "No",
         "5174"
        ],
        [
         "Yes",
         "1869"
        ]
       ],
       "shape": {
        "columns": 1,
        "rows": 2
       }
      },
      "text/plain": [
       "churn_label\n",
       "No     5174\n",
       "Yes    1869\n",
       "Name: count, dtype: int64"
      ]
     },
     "execution_count": 14,
     "metadata": {},
     "output_type": "execute_result"
    }
   ],
   "source": [
    "df['churn_label'].value_counts()"
   ]
  },
  {
   "cell_type": "markdown",
   "id": "15821edb",
   "metadata": {},
   "source": [
    "### Initial Observations Based on Data Types and Unique Values\n",
    "\n",
    "- `churn_reason` contains missing values exclusively for non-churned customers, which is expected — no reason is recorded for retained clients.\n",
    "- `churn_label` is a textual version of the target variable and will be dropped due to redundancy.\n",
    "- `total_charges` is stored as object due to mixed formatting; it will be cast to float for numerical analysis.\n",
    "- Several columns have only one unique value and therefore provide no information to the model:\n",
    "  - `count`, `country`, `state` -> dropped due to zero variance.\n",
    "- Features like `customerID`, `zip_code`, `lat_long`, `latitude`, `longitude` are numeric but represent identifiers or coordinates, they will be dropped as they are not structured for direct modeling use.\n",
    "- Features with a small number of unique values (e.g. binary or low-cardinality categorical variables) will be treated as categorical and will be encoded later in the ML pipeline.\n",
    "- Textual features such as `churn_reason` will not be used, as the current scope excludes NLP processing.\n",
    "- No other columns contain missing values.\n",
    "\n",
    "A final selection of relevant features for modeling will be provided at the end of the EDA phase.\n"
   ]
  },
  {
   "cell_type": "code",
   "execution_count": 15,
   "id": "65c8229d",
   "metadata": {},
   "outputs": [],
   "source": [
    "df_clean = df.copy()"
   ]
  },
  {
   "cell_type": "code",
   "execution_count": 16,
   "id": "b70bb2f4",
   "metadata": {},
   "outputs": [],
   "source": [
    "df_clean['total_charges'] = pd.to_numeric(df_clean['total_charges'], errors='coerce')"
   ]
  },
  {
   "cell_type": "code",
   "execution_count": 60,
   "id": "63c6bcd6",
   "metadata": {},
   "outputs": [
    {
     "data": {
      "text/plain": [
       "np.int64(11)"
      ]
     },
     "execution_count": 60,
     "metadata": {},
     "output_type": "execute_result"
    }
   ],
   "source": [
    "df_clean['total_charges'].isnull().sum()"
   ]
  },
  {
   "cell_type": "markdown",
   "id": "591feb1d",
   "metadata": {},
   "source": [
    "That's why we have to check for nulls, because the ISNULL function doesn't recognize empty strings (''). But when we convert them into numbers, it turns out we actually have nulls!\""
   ]
  },
  {
   "cell_type": "code",
   "execution_count": 17,
   "id": "51f038db",
   "metadata": {},
   "outputs": [
    {
     "data": {
      "application/vnd.microsoft.datawrangler.viewer.v0+json": {
       "columns": [
        {
         "name": "index",
         "rawType": "object",
         "type": "string"
        },
        {
         "name": "count",
         "rawType": "float64",
         "type": "float"
        },
        {
         "name": "mean",
         "rawType": "float64",
         "type": "float"
        },
        {
         "name": "std",
         "rawType": "float64",
         "type": "float"
        },
        {
         "name": "min",
         "rawType": "float64",
         "type": "float"
        },
        {
         "name": "25%",
         "rawType": "float64",
         "type": "float"
        },
        {
         "name": "50%",
         "rawType": "float64",
         "type": "float"
        },
        {
         "name": "75%",
         "rawType": "float64",
         "type": "float"
        },
        {
         "name": "max",
         "rawType": "float64",
         "type": "float"
        }
       ],
       "ref": "92d35eca-c28b-45a3-b707-429930f016da",
       "rows": [
        [
         "count",
         "7043.0",
         "1.0",
         "0.0",
         "1.0",
         "1.0",
         "1.0",
         "1.0",
         "1.0"
        ],
        [
         "zip_code",
         "7043.0",
         "93521.965",
         "1865.795",
         "90001.0",
         "92102.0",
         "93552.0",
         "95351.0",
         "96161.0"
        ],
        [
         "latitude",
         "7043.0",
         "36.282",
         "2.456",
         "32.556",
         "34.031",
         "36.392",
         "38.225",
         "41.962"
        ],
        [
         "longitude",
         "7043.0",
         "-119.799",
         "2.158",
         "-124.301",
         "-121.815",
         "-119.731",
         "-118.043",
         "-114.193"
        ],
        [
         "tenure_months",
         "7043.0",
         "32.371",
         "24.559",
         "0.0",
         "9.0",
         "29.0",
         "55.0",
         "72.0"
        ],
        [
         "monthly_charges",
         "7043.0",
         "64.762",
         "30.09",
         "18.25",
         "35.5",
         "70.35",
         "89.85",
         "118.75"
        ],
        [
         "total_charges",
         "7032.0",
         "2283.3",
         "2266.771",
         "18.8",
         "401.45",
         "1397.475",
         "3794.738",
         "8684.8"
        ],
        [
         "churn_value",
         "7043.0",
         "0.265",
         "0.442",
         "0.0",
         "0.0",
         "0.0",
         "1.0",
         "1.0"
        ],
        [
         "churn_score",
         "7043.0",
         "58.699",
         "21.525",
         "5.0",
         "40.0",
         "61.0",
         "75.0",
         "100.0"
        ],
        [
         "cltv",
         "7043.0",
         "4400.296",
         "1183.057",
         "2003.0",
         "3469.0",
         "4527.0",
         "5380.5",
         "6500.0"
        ]
       ],
       "shape": {
        "columns": 8,
        "rows": 10
       }
      },
      "text/html": [
       "<div>\n",
       "<style scoped>\n",
       "    .dataframe tbody tr th:only-of-type {\n",
       "        vertical-align: middle;\n",
       "    }\n",
       "\n",
       "    .dataframe tbody tr th {\n",
       "        vertical-align: top;\n",
       "    }\n",
       "\n",
       "    .dataframe thead th {\n",
       "        text-align: right;\n",
       "    }\n",
       "</style>\n",
       "<table border=\"1\" class=\"dataframe\">\n",
       "  <thead>\n",
       "    <tr style=\"text-align: right;\">\n",
       "      <th></th>\n",
       "      <th>count</th>\n",
       "      <th>mean</th>\n",
       "      <th>std</th>\n",
       "      <th>min</th>\n",
       "      <th>25%</th>\n",
       "      <th>50%</th>\n",
       "      <th>75%</th>\n",
       "      <th>max</th>\n",
       "    </tr>\n",
       "  </thead>\n",
       "  <tbody>\n",
       "    <tr>\n",
       "      <th>count</th>\n",
       "      <td>7043.0</td>\n",
       "      <td>1.000</td>\n",
       "      <td>0.000</td>\n",
       "      <td>1.000</td>\n",
       "      <td>1.000</td>\n",
       "      <td>1.000</td>\n",
       "      <td>1.000</td>\n",
       "      <td>1.000</td>\n",
       "    </tr>\n",
       "    <tr>\n",
       "      <th>zip_code</th>\n",
       "      <td>7043.0</td>\n",
       "      <td>93521.965</td>\n",
       "      <td>1865.795</td>\n",
       "      <td>90001.000</td>\n",
       "      <td>92102.000</td>\n",
       "      <td>93552.000</td>\n",
       "      <td>95351.000</td>\n",
       "      <td>96161.000</td>\n",
       "    </tr>\n",
       "    <tr>\n",
       "      <th>latitude</th>\n",
       "      <td>7043.0</td>\n",
       "      <td>36.282</td>\n",
       "      <td>2.456</td>\n",
       "      <td>32.556</td>\n",
       "      <td>34.031</td>\n",
       "      <td>36.392</td>\n",
       "      <td>38.225</td>\n",
       "      <td>41.962</td>\n",
       "    </tr>\n",
       "    <tr>\n",
       "      <th>longitude</th>\n",
       "      <td>7043.0</td>\n",
       "      <td>-119.799</td>\n",
       "      <td>2.158</td>\n",
       "      <td>-124.301</td>\n",
       "      <td>-121.815</td>\n",
       "      <td>-119.731</td>\n",
       "      <td>-118.043</td>\n",
       "      <td>-114.193</td>\n",
       "    </tr>\n",
       "    <tr>\n",
       "      <th>tenure_months</th>\n",
       "      <td>7043.0</td>\n",
       "      <td>32.371</td>\n",
       "      <td>24.559</td>\n",
       "      <td>0.000</td>\n",
       "      <td>9.000</td>\n",
       "      <td>29.000</td>\n",
       "      <td>55.000</td>\n",
       "      <td>72.000</td>\n",
       "    </tr>\n",
       "    <tr>\n",
       "      <th>monthly_charges</th>\n",
       "      <td>7043.0</td>\n",
       "      <td>64.762</td>\n",
       "      <td>30.090</td>\n",
       "      <td>18.250</td>\n",
       "      <td>35.500</td>\n",
       "      <td>70.350</td>\n",
       "      <td>89.850</td>\n",
       "      <td>118.750</td>\n",
       "    </tr>\n",
       "    <tr>\n",
       "      <th>total_charges</th>\n",
       "      <td>7032.0</td>\n",
       "      <td>2283.300</td>\n",
       "      <td>2266.771</td>\n",
       "      <td>18.800</td>\n",
       "      <td>401.450</td>\n",
       "      <td>1397.475</td>\n",
       "      <td>3794.738</td>\n",
       "      <td>8684.800</td>\n",
       "    </tr>\n",
       "    <tr>\n",
       "      <th>churn_value</th>\n",
       "      <td>7043.0</td>\n",
       "      <td>0.265</td>\n",
       "      <td>0.442</td>\n",
       "      <td>0.000</td>\n",
       "      <td>0.000</td>\n",
       "      <td>0.000</td>\n",
       "      <td>1.000</td>\n",
       "      <td>1.000</td>\n",
       "    </tr>\n",
       "    <tr>\n",
       "      <th>churn_score</th>\n",
       "      <td>7043.0</td>\n",
       "      <td>58.699</td>\n",
       "      <td>21.525</td>\n",
       "      <td>5.000</td>\n",
       "      <td>40.000</td>\n",
       "      <td>61.000</td>\n",
       "      <td>75.000</td>\n",
       "      <td>100.000</td>\n",
       "    </tr>\n",
       "    <tr>\n",
       "      <th>cltv</th>\n",
       "      <td>7043.0</td>\n",
       "      <td>4400.296</td>\n",
       "      <td>1183.057</td>\n",
       "      <td>2003.000</td>\n",
       "      <td>3469.000</td>\n",
       "      <td>4527.000</td>\n",
       "      <td>5380.500</td>\n",
       "      <td>6500.000</td>\n",
       "    </tr>\n",
       "  </tbody>\n",
       "</table>\n",
       "</div>"
      ],
      "text/plain": [
       "                  count       mean       std        min        25%        50%  \\\n",
       "count            7043.0      1.000     0.000      1.000      1.000      1.000   \n",
       "zip_code         7043.0  93521.965  1865.795  90001.000  92102.000  93552.000   \n",
       "latitude         7043.0     36.282     2.456     32.556     34.031     36.392   \n",
       "longitude        7043.0   -119.799     2.158   -124.301   -121.815   -119.731   \n",
       "tenure_months    7043.0     32.371    24.559      0.000      9.000     29.000   \n",
       "monthly_charges  7043.0     64.762    30.090     18.250     35.500     70.350   \n",
       "total_charges    7032.0   2283.300  2266.771     18.800    401.450   1397.475   \n",
       "churn_value      7043.0      0.265     0.442      0.000      0.000      0.000   \n",
       "churn_score      7043.0     58.699    21.525      5.000     40.000     61.000   \n",
       "cltv             7043.0   4400.296  1183.057   2003.000   3469.000   4527.000   \n",
       "\n",
       "                       75%        max  \n",
       "count                1.000      1.000  \n",
       "zip_code         95351.000  96161.000  \n",
       "latitude            38.225     41.962  \n",
       "longitude         -118.043   -114.193  \n",
       "tenure_months       55.000     72.000  \n",
       "monthly_charges     89.850    118.750  \n",
       "total_charges     3794.738   8684.800  \n",
       "churn_value          1.000      1.000  \n",
       "churn_score         75.000    100.000  \n",
       "cltv              5380.500   6500.000  "
      ]
     },
     "execution_count": 17,
     "metadata": {},
     "output_type": "execute_result"
    }
   ],
   "source": [
    "df_clean.describe().round(3).T"
   ]
  },
  {
   "cell_type": "markdown",
   "id": "73a5552b",
   "metadata": {},
   "source": [
    "# EDA MAIN"
   ]
  },
  {
   "cell_type": "markdown",
   "id": "c1713ebe",
   "metadata": {},
   "source": [
    "---\n",
    "Now we want to find the relationship between the dependent variable (churn_value) and the independent variables (other features).\n",
    "**target = 'churn_value'**\n",
    "\n",
    "So the question is why clients left ? (according to the date) "
   ]
  },
  {
   "cell_type": "code",
   "execution_count": 18,
   "id": "f10ad614",
   "metadata": {},
   "outputs": [
    {
     "data": {
      "image/png": "[encoded data removed]",
      "text/plain": [
       "<Figure size 700x500 with 1 Axes>"
      ]
     },
     "metadata": {},
     "output_type": "display_data"
    }
   ],
   "source": [
    "target = ['churn_value']\n",
    "vc = df[target].value_counts()\n",
    "pct_vc = (vc / vc.sum()) * 100\n",
    "\n",
    "ax = pct_vc.plot(kind='bar', figsize=(7, 5), title=f'Distributon feature {target}', color=['skyblue', 'tomato'])\n",
    "\n",
    "for container in ax.containers:\n",
    "    ax.bar_label(container, fmt='%.1f%%', label_type='edge', fontsize=10)\n",
    "\n",
    "ax.set_xticklabels(['Stay', 'Left'], rotation=0)\n",
    "plt.ylabel('Percentage Share (%)')\n",
    "plt.xlabel('')\n",
    "\n",
    "plt.show()"
   ]
  },
  {
   "cell_type": "markdown",
   "id": "f657a82c",
   "metadata": {},
   "source": [
    "So accoding to data 26.5% of clients have left. Now we try to find the kind of customers are more likely to stop using our services. \n",
    "\n",
    "> ### Also we've got here unblamced data, notes it and deal with it in ML phrase"
   ]
  },
  {
   "cell_type": "markdown",
   "id": "6051d92b",
   "metadata": {},
   "source": [
    "---\n",
    "### Location\n",
    "Does location affect churn ?\n",
    "\n",
    "According to the table (summary) clients are from United States - California, from 1129 cities."
   ]
  },
  {
   "cell_type": "code",
   "execution_count": 19,
   "id": "3e98458f",
   "metadata": {},
   "outputs": [],
   "source": [
    "df_map = df_clean[['latitude', 'longitude', 'customer_id']].copy()\n",
    "\n",
    "map_center = [df_map['latitude'].mean(), df_map['longitude'].mean()]\n",
    "m = folium.Map(location=map_center, zoom_start=7, tiles=\"OpenStreetMap\")\n",
    "\n",
    "for _, row in df_map.iterrows():\n",
    "    folium.CircleMarker(\n",
    "        location=[row['latitude'], row['longitude']],\n",
    "        radius=3,\n",
    "        fill=True, \n",
    "        fill_opacity=0.6,\n",
    "        color='blue',\n",
    "        popup=folium.Popup(f\"Customer ID: {row['customer_id']}\", max_width=250)\n",
    "    ).add_to(m)\n",
    "\n",
    "m.save('../reports/churn_map.html')\n",
    "                    \n"
   ]
  },
  {
   "cell_type": "markdown",
   "id": "c54c260b",
   "metadata": {},
   "source": [
    "It seems that location its nor important "
   ]
  },
  {
   "cell_type": "markdown",
   "id": "465aa180",
   "metadata": {},
   "source": [
    "### Contract\n",
    "\n",
    "Does contract type affect churn ?"
   ]
  },
  {
   "cell_type": "code",
   "execution_count": 20,
   "id": "81ed7c87",
   "metadata": {},
   "outputs": [
    {
     "data": {
      "application/vnd.microsoft.datawrangler.viewer.v0+json": {
       "columns": [
        {
         "name": "contract",
         "rawType": "object",
         "type": "string"
        },
        {
         "name": "count",
         "rawType": "int64",
         "type": "integer"
        }
       ],
       "ref": "10bf648c-575e-48a2-8e83-590f558f8d41",
       "rows": [
        [
         "Month-to-month",
         "3875"
        ],
        [
         "Two year",
         "1695"
        ],
        [
         "One year",
         "1473"
        ]
       ],
       "shape": {
        "columns": 1,
        "rows": 3
       }
      },
      "text/plain": [
       "contract\n",
       "Month-to-month    3875\n",
       "Two year          1695\n",
       "One year          1473\n",
       "Name: count, dtype: int64"
      ]
     },
     "execution_count": 20,
     "metadata": {},
     "output_type": "execute_result"
    }
   ],
   "source": [
    "df_clean['contract'].value_counts()"
   ]
  },
  {
   "cell_type": "code",
   "execution_count": 21,
   "id": "073a620e",
   "metadata": {},
   "outputs": [
    {
     "data": {
      "application/vnd.microsoft.datawrangler.viewer.v0+json": {
       "columns": [
        {
         "name": "contract",
         "rawType": "object",
         "type": "string"
        },
        {
         "name": "customer_count",
         "rawType": "int64",
         "type": "integer"
        },
        {
         "name": "churners",
         "rawType": "int64",
         "type": "integer"
        },
        {
         "name": "churn_rate",
         "rawType": "float64",
         "type": "float"
        }
       ],
       "ref": "7596a6e3-d515-4ff1-b4f8-1c066aca022a",
       "rows": [
        [
         "Month-to-month",
         "3875",
         "1655",
         "42.71"
        ],
        [
         "One year",
         "1473",
         "166",
         "11.27"
        ],
        [
         "Two year",
         "1695",
         "48",
         "2.83"
        ]
       ],
       "shape": {
        "columns": 3,
        "rows": 3
       }
      },
      "text/html": [
       "<div>\n",
       "<style scoped>\n",
       "    .dataframe tbody tr th:only-of-type {\n",
       "        vertical-align: middle;\n",
       "    }\n",
       "\n",
       "    .dataframe tbody tr th {\n",
       "        vertical-align: top;\n",
       "    }\n",
       "\n",
       "    .dataframe thead th {\n",
       "        text-align: right;\n",
       "    }\n",
       "</style>\n",
       "<table border=\"1\" class=\"dataframe\">\n",
       "  <thead>\n",
       "    <tr style=\"text-align: right;\">\n",
       "      <th></th>\n",
       "      <th>customer_count</th>\n",
       "      <th>churners</th>\n",
       "      <th>churn_rate</th>\n",
       "    </tr>\n",
       "    <tr>\n",
       "      <th>contract</th>\n",
       "      <th></th>\n",
       "      <th></th>\n",
       "      <th></th>\n",
       "    </tr>\n",
       "  </thead>\n",
       "  <tbody>\n",
       "    <tr>\n",
       "      <th>Month-to-month</th>\n",
       "      <td>3875</td>\n",
       "      <td>1655</td>\n",
       "      <td>42.71</td>\n",
       "    </tr>\n",
       "    <tr>\n",
       "      <th>One year</th>\n",
       "      <td>1473</td>\n",
       "      <td>166</td>\n",
       "      <td>11.27</td>\n",
       "    </tr>\n",
       "    <tr>\n",
       "      <th>Two year</th>\n",
       "      <td>1695</td>\n",
       "      <td>48</td>\n",
       "      <td>2.83</td>\n",
       "    </tr>\n",
       "  </tbody>\n",
       "</table>\n",
       "</div>"
      ],
      "text/plain": [
       "                customer_count  churners  churn_rate\n",
       "contract                                            \n",
       "Month-to-month            3875      1655       42.71\n",
       "One year                  1473       166       11.27\n",
       "Two year                  1695        48        2.83"
      ]
     },
     "execution_count": 21,
     "metadata": {},
     "output_type": "execute_result"
    }
   ],
   "source": [
    "contract_churn = df_clean.groupby('contract')['churn_value'].agg(\n",
    "    customer_count = 'count',\n",
    "    churners='sum', \n",
    "    churn_rate='mean'\n",
    ").sort_values('churn_rate', ascending=False)\n",
    "\n",
    "contract_churn['churn_rate'] = (contract_churn['churn_rate'] * 100).round(2)\n",
    "contract_churn"
   ]
  },
  {
   "cell_type": "code",
   "execution_count": 22,
   "id": "fd72d3c7",
   "metadata": {},
   "outputs": [
    {
     "data": {
      "image/png": "[encoded data removed]",
      "text/plain": [
       "<Figure size 700x500 with 1 Axes>"
      ]
     },
     "metadata": {},
     "output_type": "display_data"
    }
   ],
   "source": [
    "labels = contract_churn.index\n",
    "values = contract_churn['churn_rate']\n",
    "\n",
    "fig, ax = plt.subplots(figsize=(7, 5))\n",
    "bars = ax.bar(labels, values, color=['red', 'orange', 'yellow'])\n",
    "\n",
    "ax.bar_label(bars, fmt='%.2f%%')\n",
    "ax.set_title(\"Churn Rate by Contract Type\")\n",
    "ax.set_ylabel(\"Churn Rate (%)\")\n",
    "ax.set_xlabel(\"Contract\")\n",
    "ax.set_ylim(0, 50)\n",
    "\n",
    "plt.tight_layout()\n",
    "plt.show()"
   ]
  },
  {
   "cell_type": "markdown",
   "id": "dce8bd2d",
   "metadata": {},
   "source": [
    "- Customers with short contracts leave much more often.\n",
    "- Long-term customers rarely cancel."
   ]
  },
  {
   "cell_type": "markdown",
   "id": "557836a6",
   "metadata": {},
   "source": [
    "### Tenure (months)\n",
    "\n",
    "We want to check how many clients leave in the first few months and how often that happens.\n",
    "It can be used as supporting evidence\n"
   ]
  },
  {
   "cell_type": "code",
   "execution_count": 23,
   "id": "63053148",
   "metadata": {},
   "outputs": [
    {
     "data": {
      "image/png": "[encoded data removed]",
      "text/plain": [
       "<Figure size 800x500 with 1 Axes>"
      ]
     },
     "metadata": {},
     "output_type": "display_data"
    }
   ],
   "source": [
    "plt.figure(figsize=(8, 5))\n",
    "\n",
    "sns.kdeplot(\n",
    "    data=df_clean[df_clean['churn_value'] == 0],\n",
    "    x='tenure_months',\n",
    "    fill=True,\n",
    "    color='skyblue',\n",
    "    label='client stayed',\n",
    "    clip=(0, 72)\n",
    ")\n",
    "\n",
    "sns.kdeplot(\n",
    "    data=df_clean[df_clean['churn_value'] == 1],\n",
    "    x='tenure_months',\n",
    "    fill=True,\n",
    "    color='tomato',\n",
    "    label='client left',\n",
    "    clip=(0, 72)\n",
    ")\n",
    "\n",
    "plt.title('Tenure Distribution by Churn')\n",
    "plt.xlabel('Tenure (months)')\n",
    "plt.ylabel('Density')\n",
    "plt.legend()\n",
    "plt.show()"
   ]
  },
  {
   "cell_type": "markdown",
   "id": "cfc076e0",
   "metadata": {},
   "source": [
    "- Clients who left usually had a short tenure — mainly below 10 months.\n",
    "- Clients who stayed have a more even distribution, but we can see an increase in the 65–75-month range (older clients, maybe they get bored).\n",
    "\n",
    "It just come to my mind that we can devide tenure into intervals - ML likes that"
   ]
  },
  {
   "cell_type": "code",
   "execution_count": 24,
   "id": "c676806a",
   "metadata": {},
   "outputs": [
    {
     "data": {
      "text/plain": [
       "IntervalIndex([(-0.072, 18.0], (18.0, 36.0], (36.0, 54.0], (54.0, 72.0]], dtype='interval[float64, right]')"
      ]
     },
     "execution_count": 24,
     "metadata": {},
     "output_type": "execute_result"
    }
   ],
   "source": [
    "df_clean['tenure_bin'] = pd.cut(df_clean['tenure_months'], bins=4)\n",
    "df_clean['tenure_bin'].cat.categories\n"
   ]
  },
  {
   "cell_type": "code",
   "execution_count": 25,
   "id": "f315a7a3",
   "metadata": {},
   "outputs": [
    {
     "data": {
      "application/vnd.microsoft.datawrangler.viewer.v0+json": {
       "columns": [
        {
         "name": "tenure_bin",
         "rawType": "category",
         "type": "unknown"
        },
        {
         "name": "count",
         "rawType": "int64",
         "type": "integer"
        }
       ],
       "ref": "cc036639-bd74-4269-a97e-0a45a0df968b",
       "rows": [
        [
         "(-0.072, 18.0]",
         "2734"
        ],
        [
         "(18.0, 36.0]",
         "1308"
        ],
        [
         "(36.0, 54.0]",
         "1182"
        ],
        [
         "(54.0, 72.0]",
         "1819"
        ]
       ],
       "shape": {
        "columns": 1,
        "rows": 4
       }
      },
      "text/plain": [
       "tenure_bin\n",
       "(-0.072, 18.0]    2734\n",
       "(18.0, 36.0]      1308\n",
       "(36.0, 54.0]      1182\n",
       "(54.0, 72.0]      1819\n",
       "Name: count, dtype: int64"
      ]
     },
     "execution_count": 25,
     "metadata": {},
     "output_type": "execute_result"
    }
   ],
   "source": [
    "df_clean['tenure_bin'].value_counts().sort_index()"
   ]
  },
  {
   "cell_type": "code",
   "execution_count": 26,
   "id": "4ef40838",
   "metadata": {},
   "outputs": [],
   "source": [
    "churn_by_bin = df_clean.groupby('tenure_bin', observed=True)['churn_value'].agg(\n",
    "    customers='count',\n",
    "    churners='sum', \n",
    "    churn_rate='mean'\n",
    ").sort_values('tenure_bin')\n",
    "churn_by_bin['churn_rate'] = churn_by_bin['churn_rate'] * 100"
   ]
  },
  {
   "cell_type": "code",
   "execution_count": 27,
   "id": "fc2becea",
   "metadata": {},
   "outputs": [
    {
     "data": {
      "image/png": "[encoded data removed]",
      "text/plain": [
       "<Figure size 640x480 with 1 Axes>"
      ]
     },
     "metadata": {},
     "output_type": "display_data"
    }
   ],
   "source": [
    "sns.barplot(\n",
    "    data=churn_by_bin,\n",
    "    x='tenure_bin',\n",
    "    y='churn_rate',\n",
    "    hue='tenure_bin',\n",
    "    palette='Blues',\n",
    "    legend=False\n",
    ")\n",
    "plt.ylabel('Churn rate [%]')\n",
    "plt.xlabel('Tenure (months)')\n",
    "plt.title ('Churn by months (intervals)')\n",
    "plt.show()"
   ]
  },
  {
   "cell_type": "markdown",
   "id": "185a531a",
   "metadata": {},
   "source": [
    "Column `tenure_bin` added to data "
   ]
  },
  {
   "cell_type": "markdown",
   "id": "bbede9bb",
   "metadata": {},
   "source": [
    "### Gender & Senior_citizen & Partner & Dependents (Indicates if the customer lives with any dependents: Yes, No. Dependents could be children, parents, grandparents, etc.)"
   ]
  },
  {
   "cell_type": "code",
   "execution_count": 28,
   "id": "5f55705d",
   "metadata": {},
   "outputs": [
    {
     "data": {
      "application/vnd.microsoft.datawrangler.viewer.v0+json": {
       "columns": [
        {
         "name": "gender",
         "rawType": "object",
         "type": "string"
        },
        {
         "name": "customers",
         "rawType": "int64",
         "type": "integer"
        },
        {
         "name": "churners",
         "rawType": "int64",
         "type": "integer"
        },
        {
         "name": "churn_rate",
         "rawType": "float64",
         "type": "float"
        }
       ],
       "ref": "a3d06020-af90-409c-88c4-e3d89709ab24",
       "rows": [
        [
         "Female",
         "3488",
         "939",
         "26.92"
        ],
        [
         "Male",
         "3555",
         "930",
         "26.16"
        ]
       ],
       "shape": {
        "columns": 3,
        "rows": 2
       }
      },
      "text/html": [
       "<div>\n",
       "<style scoped>\n",
       "    .dataframe tbody tr th:only-of-type {\n",
       "        vertical-align: middle;\n",
       "    }\n",
       "\n",
       "    .dataframe tbody tr th {\n",
       "        vertical-align: top;\n",
       "    }\n",
       "\n",
       "    .dataframe thead th {\n",
       "        text-align: right;\n",
       "    }\n",
       "</style>\n",
       "<table border=\"1\" class=\"dataframe\">\n",
       "  <thead>\n",
       "    <tr style=\"text-align: right;\">\n",
       "      <th></th>\n",
       "      <th>customers</th>\n",
       "      <th>churners</th>\n",
       "      <th>churn_rate</th>\n",
       "    </tr>\n",
       "    <tr>\n",
       "      <th>gender</th>\n",
       "      <th></th>\n",
       "      <th></th>\n",
       "      <th></th>\n",
       "    </tr>\n",
       "  </thead>\n",
       "  <tbody>\n",
       "    <tr>\n",
       "      <th>Female</th>\n",
       "      <td>3488</td>\n",
       "      <td>939</td>\n",
       "      <td>26.92</td>\n",
       "    </tr>\n",
       "    <tr>\n",
       "      <th>Male</th>\n",
       "      <td>3555</td>\n",
       "      <td>930</td>\n",
       "      <td>26.16</td>\n",
       "    </tr>\n",
       "  </tbody>\n",
       "</table>\n",
       "</div>"
      ],
      "text/plain": [
       "        customers  churners  churn_rate\n",
       "gender                                 \n",
       "Female       3488       939       26.92\n",
       "Male         3555       930       26.16"
      ]
     },
     "execution_count": 28,
     "metadata": {},
     "output_type": "execute_result"
    }
   ],
   "source": [
    "gender = df_clean.groupby('gender')['churn_value'].agg(\n",
    "    customers='count',\n",
    "    churners='sum', \n",
    "    churn_rate='mean'\n",
    ").sort_values('gender', ascending=True)\n",
    "\n",
    "gender['churn_rate'] = (gender['churn_rate'] * 100).round(2)\n",
    "gender"
   ]
  },
  {
   "cell_type": "markdown",
   "id": "4a1eb7f6",
   "metadata": {},
   "source": [
    ">### Ye I know i should make a loop or function but i wanna see process. I'll add some new functions into my library. Next time I'll do it !"
   ]
  },
  {
   "cell_type": "code",
   "execution_count": 29,
   "id": "c5ddf013",
   "metadata": {},
   "outputs": [
    {
     "data": {
      "application/vnd.microsoft.datawrangler.viewer.v0+json": {
       "columns": [
        {
         "name": "senior_citizen",
         "rawType": "object",
         "type": "string"
        },
        {
         "name": "customers",
         "rawType": "int64",
         "type": "integer"
        },
        {
         "name": "churners",
         "rawType": "int64",
         "type": "integer"
        },
        {
         "name": "churn_rate",
         "rawType": "float64",
         "type": "float"
        }
       ],
       "ref": "c73c4167-92cc-4f34-adb4-64c4ac5bedab",
       "rows": [
        [
         "No",
         "5901",
         "1393",
         "23.61"
        ],
        [
         "Yes",
         "1142",
         "476",
         "41.68"
        ]
       ],
       "shape": {
        "columns": 3,
        "rows": 2
       }
      },
      "text/html": [
       "<div>\n",
       "<style scoped>\n",
       "    .dataframe tbody tr th:only-of-type {\n",
       "        vertical-align: middle;\n",
       "    }\n",
       "\n",
       "    .dataframe tbody tr th {\n",
       "        vertical-align: top;\n",
       "    }\n",
       "\n",
       "    .dataframe thead th {\n",
       "        text-align: right;\n",
       "    }\n",
       "</style>\n",
       "<table border=\"1\" class=\"dataframe\">\n",
       "  <thead>\n",
       "    <tr style=\"text-align: right;\">\n",
       "      <th></th>\n",
       "      <th>customers</th>\n",
       "      <th>churners</th>\n",
       "      <th>churn_rate</th>\n",
       "    </tr>\n",
       "    <tr>\n",
       "      <th>senior_citizen</th>\n",
       "      <th></th>\n",
       "      <th></th>\n",
       "      <th></th>\n",
       "    </tr>\n",
       "  </thead>\n",
       "  <tbody>\n",
       "    <tr>\n",
       "      <th>No</th>\n",
       "      <td>5901</td>\n",
       "      <td>1393</td>\n",
       "      <td>23.61</td>\n",
       "    </tr>\n",
       "    <tr>\n",
       "      <th>Yes</th>\n",
       "      <td>1142</td>\n",
       "      <td>476</td>\n",
       "      <td>41.68</td>\n",
       "    </tr>\n",
       "  </tbody>\n",
       "</table>\n",
       "</div>"
      ],
      "text/plain": [
       "                customers  churners  churn_rate\n",
       "senior_citizen                                 \n",
       "No                   5901      1393       23.61\n",
       "Yes                  1142       476       41.68"
      ]
     },
     "execution_count": 29,
     "metadata": {},
     "output_type": "execute_result"
    }
   ],
   "source": [
    "senior_citizen = df_clean.groupby('senior_citizen')['churn_value'].agg(\n",
    "    customers='count',\n",
    "    churners='sum', \n",
    "    churn_rate='mean'\n",
    ").sort_values('senior_citizen')\n",
    "\n",
    "senior_citizen['churn_rate'] = (senior_citizen['churn_rate'] * 100).round(2)\n",
    "senior_citizen"
   ]
  },
  {
   "cell_type": "code",
   "execution_count": 30,
   "id": "834afc2f",
   "metadata": {},
   "outputs": [
    {
     "data": {
      "application/vnd.microsoft.datawrangler.viewer.v0+json": {
       "columns": [
        {
         "name": "partner",
         "rawType": "object",
         "type": "string"
        },
        {
         "name": "customers",
         "rawType": "int64",
         "type": "integer"
        },
        {
         "name": "churners",
         "rawType": "int64",
         "type": "integer"
        },
        {
         "name": "churn_rate",
         "rawType": "float64",
         "type": "float"
        }
       ],
       "ref": "e4595080-31f6-4335-a530-d208d8f93474",
       "rows": [
        [
         "No",
         "3641",
         "1200",
         "32.96"
        ],
        [
         "Yes",
         "3402",
         "669",
         "19.66"
        ]
       ],
       "shape": {
        "columns": 3,
        "rows": 2
       }
      },
      "text/html": [
       "<div>\n",
       "<style scoped>\n",
       "    .dataframe tbody tr th:only-of-type {\n",
       "        vertical-align: middle;\n",
       "    }\n",
       "\n",
       "    .dataframe tbody tr th {\n",
       "        vertical-align: top;\n",
       "    }\n",
       "\n",
       "    .dataframe thead th {\n",
       "        text-align: right;\n",
       "    }\n",
       "</style>\n",
       "<table border=\"1\" class=\"dataframe\">\n",
       "  <thead>\n",
       "    <tr style=\"text-align: right;\">\n",
       "      <th></th>\n",
       "      <th>customers</th>\n",
       "      <th>churners</th>\n",
       "      <th>churn_rate</th>\n",
       "    </tr>\n",
       "    <tr>\n",
       "      <th>partner</th>\n",
       "      <th></th>\n",
       "      <th></th>\n",
       "      <th></th>\n",
       "    </tr>\n",
       "  </thead>\n",
       "  <tbody>\n",
       "    <tr>\n",
       "      <th>No</th>\n",
       "      <td>3641</td>\n",
       "      <td>1200</td>\n",
       "      <td>32.96</td>\n",
       "    </tr>\n",
       "    <tr>\n",
       "      <th>Yes</th>\n",
       "      <td>3402</td>\n",
       "      <td>669</td>\n",
       "      <td>19.66</td>\n",
       "    </tr>\n",
       "  </tbody>\n",
       "</table>\n",
       "</div>"
      ],
      "text/plain": [
       "         customers  churners  churn_rate\n",
       "partner                                 \n",
       "No            3641      1200       32.96\n",
       "Yes           3402       669       19.66"
      ]
     },
     "execution_count": 30,
     "metadata": {},
     "output_type": "execute_result"
    }
   ],
   "source": [
    "partner = df_clean.groupby('partner')['churn_value'].agg(\n",
    "    customers='count',\n",
    "    churners='sum',\n",
    "    churn_rate='mean'\n",
    ").sort_values('partner')\n",
    "\n",
    "partner['churn_rate'] = (partner['churn_rate'] * 100).round(2)\n",
    "partner"
   ]
  },
  {
   "cell_type": "code",
   "execution_count": 31,
   "id": "2d2c098a",
   "metadata": {},
   "outputs": [
    {
     "data": {
      "application/vnd.microsoft.datawrangler.viewer.v0+json": {
       "columns": [
        {
         "name": "dependents",
         "rawType": "object",
         "type": "string"
        },
        {
         "name": "customers",
         "rawType": "int64",
         "type": "integer"
        },
        {
         "name": "churners",
         "rawType": "int64",
         "type": "integer"
        },
        {
         "name": "churn_rate",
         "rawType": "float64",
         "type": "float"
        }
       ],
       "ref": "db06d089-e8e4-45cc-a1b1-b6dbd33c69cd",
       "rows": [
        [
         "No",
         "5416",
         "1763",
         "32.55"
        ],
        [
         "Yes",
         "1627",
         "106",
         "6.52"
        ]
       ],
       "shape": {
        "columns": 3,
        "rows": 2
       }
      },
      "text/html": [
       "<div>\n",
       "<style scoped>\n",
       "    .dataframe tbody tr th:only-of-type {\n",
       "        vertical-align: middle;\n",
       "    }\n",
       "\n",
       "    .dataframe tbody tr th {\n",
       "        vertical-align: top;\n",
       "    }\n",
       "\n",
       "    .dataframe thead th {\n",
       "        text-align: right;\n",
       "    }\n",
       "</style>\n",
       "<table border=\"1\" class=\"dataframe\">\n",
       "  <thead>\n",
       "    <tr style=\"text-align: right;\">\n",
       "      <th></th>\n",
       "      <th>customers</th>\n",
       "      <th>churners</th>\n",
       "      <th>churn_rate</th>\n",
       "    </tr>\n",
       "    <tr>\n",
       "      <th>dependents</th>\n",
       "      <th></th>\n",
       "      <th></th>\n",
       "      <th></th>\n",
       "    </tr>\n",
       "  </thead>\n",
       "  <tbody>\n",
       "    <tr>\n",
       "      <th>No</th>\n",
       "      <td>5416</td>\n",
       "      <td>1763</td>\n",
       "      <td>32.55</td>\n",
       "    </tr>\n",
       "    <tr>\n",
       "      <th>Yes</th>\n",
       "      <td>1627</td>\n",
       "      <td>106</td>\n",
       "      <td>6.52</td>\n",
       "    </tr>\n",
       "  </tbody>\n",
       "</table>\n",
       "</div>"
      ],
      "text/plain": [
       "            customers  churners  churn_rate\n",
       "dependents                                 \n",
       "No               5416      1763       32.55\n",
       "Yes              1627       106        6.52"
      ]
     },
     "execution_count": 31,
     "metadata": {},
     "output_type": "execute_result"
    }
   ],
   "source": [
    "dependents = df_clean.groupby('dependents')['churn_value'].agg(\n",
    "    customers='count',\n",
    "    churners='sum',\n",
    "    churn_rate='mean'\n",
    ").sort_values('dependents')\n",
    "\n",
    "dependents['churn_rate'] = (dependents['churn_rate'] * 100).round(2)\n",
    "dependents"
   ]
  },
  {
   "cell_type": "markdown",
   "id": "57bbaeb1",
   "metadata": {},
   "source": [
    "- Geneder doesn't matter \n",
    "- Older customers  are more likely to leave\n",
    "- Single customers rarely leaves \n",
    "- Customers without dependents are much more likely to leave.\n",
    "---"
   ]
  },
  {
   "cell_type": "markdown",
   "id": "d2ed6352",
   "metadata": {},
   "source": [
    "### Services used by the client\n",
    "- Phone Service\n",
    "- Multiple Lines\n",
    "- Internet Service\n",
    "- Online Security\n",
    "- Online Backup\n",
    "- Device Protection\n",
    "- Tech Support\n",
    "- Streaming TV\n",
    "- Streaming Movies\n",
    "---"
   ]
  },
  {
   "cell_type": "markdown",
   "id": "a618fe5f",
   "metadata": {},
   "source": [
    "### phone_service"
   ]
  },
  {
   "cell_type": "code",
   "execution_count": 32,
   "id": "2bf96670",
   "metadata": {},
   "outputs": [
    {
     "data": {
      "application/vnd.microsoft.datawrangler.viewer.v0+json": {
       "columns": [
        {
         "name": "phone_service",
         "rawType": "object",
         "type": "string"
        },
        {
         "name": "customer",
         "rawType": "int64",
         "type": "integer"
        },
        {
         "name": "churners",
         "rawType": "int64",
         "type": "integer"
        },
        {
         "name": "churn_rate",
         "rawType": "float64",
         "type": "float"
        }
       ],
       "ref": "71c94234-cda0-43ac-9a43-ff5e337b6390",
       "rows": [
        [
         "No",
         "682",
         "170",
         "24.93"
        ],
        [
         "Yes",
         "6361",
         "1699",
         "26.71"
        ]
       ],
       "shape": {
        "columns": 3,
        "rows": 2
       }
      },
      "text/html": [
       "<div>\n",
       "<style scoped>\n",
       "    .dataframe tbody tr th:only-of-type {\n",
       "        vertical-align: middle;\n",
       "    }\n",
       "\n",
       "    .dataframe tbody tr th {\n",
       "        vertical-align: top;\n",
       "    }\n",
       "\n",
       "    .dataframe thead th {\n",
       "        text-align: right;\n",
       "    }\n",
       "</style>\n",
       "<table border=\"1\" class=\"dataframe\">\n",
       "  <thead>\n",
       "    <tr style=\"text-align: right;\">\n",
       "      <th></th>\n",
       "      <th>customer</th>\n",
       "      <th>churners</th>\n",
       "      <th>churn_rate</th>\n",
       "    </tr>\n",
       "    <tr>\n",
       "      <th>phone_service</th>\n",
       "      <th></th>\n",
       "      <th></th>\n",
       "      <th></th>\n",
       "    </tr>\n",
       "  </thead>\n",
       "  <tbody>\n",
       "    <tr>\n",
       "      <th>No</th>\n",
       "      <td>682</td>\n",
       "      <td>170</td>\n",
       "      <td>24.93</td>\n",
       "    </tr>\n",
       "    <tr>\n",
       "      <th>Yes</th>\n",
       "      <td>6361</td>\n",
       "      <td>1699</td>\n",
       "      <td>26.71</td>\n",
       "    </tr>\n",
       "  </tbody>\n",
       "</table>\n",
       "</div>"
      ],
      "text/plain": [
       "               customer  churners  churn_rate\n",
       "phone_service                                \n",
       "No                  682       170       24.93\n",
       "Yes                6361      1699       26.71"
      ]
     },
     "execution_count": 32,
     "metadata": {},
     "output_type": "execute_result"
    }
   ],
   "source": [
    "phone_service = df_clean.groupby('phone_service')['churn_value'].agg(\n",
    "    customer='count',\n",
    "    churners='sum',\n",
    "    churn_rate='mean',\n",
    ").sort_values('phone_service')\n",
    "\n",
    "phone_service['churn_rate'] = (phone_service['churn_rate'] * 100).round(2)\n",
    "phone_service"
   ]
  },
  {
   "cell_type": "markdown",
   "id": "f9a5babd",
   "metadata": {},
   "source": [
    "- Phone service doesnt matter\n",
    "---\n",
    "### multiple_lines"
   ]
  },
  {
   "cell_type": "code",
   "execution_count": 33,
   "id": "15464356",
   "metadata": {},
   "outputs": [
    {
     "data": {
      "application/vnd.microsoft.datawrangler.viewer.v0+json": {
       "columns": [
        {
         "name": "multiple_lines",
         "rawType": "object",
         "type": "string"
        },
        {
         "name": "customer",
         "rawType": "int64",
         "type": "integer"
        },
        {
         "name": "churners",
         "rawType": "int64",
         "type": "integer"
        },
        {
         "name": "churn_rate",
         "rawType": "float64",
         "type": "float"
        }
       ],
       "ref": "d3fea6d8-8eac-4d9d-9b26-2ae79ee39cf8",
       "rows": [
        [
         "No",
         "3390",
         "849",
         "25.04"
        ],
        [
         "No phone service",
         "682",
         "170",
         "24.93"
        ],
        [
         "Yes",
         "2971",
         "850",
         "28.61"
        ]
       ],
       "shape": {
        "columns": 3,
        "rows": 3
       }
      },
      "text/html": [
       "<div>\n",
       "<style scoped>\n",
       "    .dataframe tbody tr th:only-of-type {\n",
       "        vertical-align: middle;\n",
       "    }\n",
       "\n",
       "    .dataframe tbody tr th {\n",
       "        vertical-align: top;\n",
       "    }\n",
       "\n",
       "    .dataframe thead th {\n",
       "        text-align: right;\n",
       "    }\n",
       "</style>\n",
       "<table border=\"1\" class=\"dataframe\">\n",
       "  <thead>\n",
       "    <tr style=\"text-align: right;\">\n",
       "      <th></th>\n",
       "      <th>customer</th>\n",
       "      <th>churners</th>\n",
       "      <th>churn_rate</th>\n",
       "    </tr>\n",
       "    <tr>\n",
       "      <th>multiple_lines</th>\n",
       "      <th></th>\n",
       "      <th></th>\n",
       "      <th></th>\n",
       "    </tr>\n",
       "  </thead>\n",
       "  <tbody>\n",
       "    <tr>\n",
       "      <th>No</th>\n",
       "      <td>3390</td>\n",
       "      <td>849</td>\n",
       "      <td>25.04</td>\n",
       "    </tr>\n",
       "    <tr>\n",
       "      <th>No phone service</th>\n",
       "      <td>682</td>\n",
       "      <td>170</td>\n",
       "      <td>24.93</td>\n",
       "    </tr>\n",
       "    <tr>\n",
       "      <th>Yes</th>\n",
       "      <td>2971</td>\n",
       "      <td>850</td>\n",
       "      <td>28.61</td>\n",
       "    </tr>\n",
       "  </tbody>\n",
       "</table>\n",
       "</div>"
      ],
      "text/plain": [
       "                  customer  churners  churn_rate\n",
       "multiple_lines                                  \n",
       "No                    3390       849       25.04\n",
       "No phone service       682       170       24.93\n",
       "Yes                   2971       850       28.61"
      ]
     },
     "execution_count": 33,
     "metadata": {},
     "output_type": "execute_result"
    }
   ],
   "source": [
    "multiple_lines = df_clean.groupby('multiple_lines')['churn_value'].agg(\n",
    "    customer='count',\n",
    "    churners='sum',\n",
    "    churn_rate='mean',\n",
    ").sort_values('multiple_lines')\n",
    "\n",
    "multiple_lines['churn_rate'] = (multiple_lines['churn_rate'] * 100).round(2)\n",
    "multiple_lines"
   ]
  },
  {
   "cell_type": "code",
   "execution_count": 34,
   "id": "439f8737",
   "metadata": {},
   "outputs": [
    {
     "data": {
      "image/png": "[encoded data removed]",
      "text/plain": [
       "<Figure size 700x500 with 1 Axes>"
      ]
     },
     "metadata": {},
     "output_type": "display_data"
    }
   ],
   "source": [
    "labels = multiple_lines.index\n",
    "values = multiple_lines['churn_rate']\n",
    "\n",
    "fig, ax = plt.subplots(figsize=(7, 5))\n",
    "bars = ax.bar(labels, values, color=['red', 'orange', 'yellow'])\n",
    "\n",
    "ax.bar_label(bars, fmt='%.2f%%')\n",
    "ax.set_title(\"Churn Rate by Multiple Lines\")\n",
    "ax.set_ylabel(\"Churn Rate (%)\")\n",
    "ax.set_xlabel(\"Multiple Lines\")\n",
    "ax.set_ylim(0, 50)\n",
    "\n",
    "plt.tight_layout()\n",
    "plt.show()"
   ]
  },
  {
   "cell_type": "markdown",
   "id": "5708434d",
   "metadata": {},
   "source": [
    "### internet_service"
   ]
  },
  {
   "cell_type": "code",
   "execution_count": 35,
   "id": "a881c49f",
   "metadata": {},
   "outputs": [
    {
     "data": {
      "application/vnd.microsoft.datawrangler.viewer.v0+json": {
       "columns": [
        {
         "name": "internet_service",
         "rawType": "object",
         "type": "string"
        },
        {
         "name": "customer",
         "rawType": "int64",
         "type": "integer"
        },
        {
         "name": "churners",
         "rawType": "int64",
         "type": "integer"
        },
        {
         "name": "churn_rate",
         "rawType": "float64",
         "type": "float"
        }
       ],
       "ref": "818ac5ae-3699-4809-81e2-4ebc361df109",
       "rows": [
        [
         "DSL",
         "2421",
         "459",
         "18.96"
        ],
        [
         "Fiber optic",
         "3096",
         "1297",
         "41.89"
        ],
        [
         "No",
         "1526",
         "113",
         "7.4"
        ]
       ],
       "shape": {
        "columns": 3,
        "rows": 3
       }
      },
      "text/html": [
       "<div>\n",
       "<style scoped>\n",
       "    .dataframe tbody tr th:only-of-type {\n",
       "        vertical-align: middle;\n",
       "    }\n",
       "\n",
       "    .dataframe tbody tr th {\n",
       "        vertical-align: top;\n",
       "    }\n",
       "\n",
       "    .dataframe thead th {\n",
       "        text-align: right;\n",
       "    }\n",
       "</style>\n",
       "<table border=\"1\" class=\"dataframe\">\n",
       "  <thead>\n",
       "    <tr style=\"text-align: right;\">\n",
       "      <th></th>\n",
       "      <th>customer</th>\n",
       "      <th>churners</th>\n",
       "      <th>churn_rate</th>\n",
       "    </tr>\n",
       "    <tr>\n",
       "      <th>internet_service</th>\n",
       "      <th></th>\n",
       "      <th></th>\n",
       "      <th></th>\n",
       "    </tr>\n",
       "  </thead>\n",
       "  <tbody>\n",
       "    <tr>\n",
       "      <th>DSL</th>\n",
       "      <td>2421</td>\n",
       "      <td>459</td>\n",
       "      <td>18.96</td>\n",
       "    </tr>\n",
       "    <tr>\n",
       "      <th>Fiber optic</th>\n",
       "      <td>3096</td>\n",
       "      <td>1297</td>\n",
       "      <td>41.89</td>\n",
       "    </tr>\n",
       "    <tr>\n",
       "      <th>No</th>\n",
       "      <td>1526</td>\n",
       "      <td>113</td>\n",
       "      <td>7.40</td>\n",
       "    </tr>\n",
       "  </tbody>\n",
       "</table>\n",
       "</div>"
      ],
      "text/plain": [
       "                  customer  churners  churn_rate\n",
       "internet_service                                \n",
       "DSL                   2421       459       18.96\n",
       "Fiber optic           3096      1297       41.89\n",
       "No                    1526       113        7.40"
      ]
     },
     "execution_count": 35,
     "metadata": {},
     "output_type": "execute_result"
    }
   ],
   "source": [
    "internet_service = df_clean.groupby('internet_service')['churn_value'].agg(\n",
    "    customer='count',\n",
    "    churners='sum',\n",
    "    churn_rate='mean',\n",
    ").sort_values('internet_service')\n",
    "\n",
    "internet_service['churn_rate'] = (internet_service['churn_rate'] * 100).round(2)\n",
    "internet_service"
   ]
  },
  {
   "cell_type": "code",
   "execution_count": 36,
   "id": "9024568f",
   "metadata": {},
   "outputs": [
    {
     "data": {
      "image/png": "[encoded data removed]",
      "text/plain": [
       "<Figure size 700x500 with 1 Axes>"
      ]
     },
     "metadata": {},
     "output_type": "display_data"
    }
   ],
   "source": [
    "labels = internet_service.index\n",
    "values = internet_service['churn_rate']\n",
    "\n",
    "fig, ax = plt.subplots(figsize=(7, 5))\n",
    "bars = ax.bar(labels, values, color=['red', 'orange', 'yellow'])\n",
    "ax.bar_label(bars, fmt='%.2f%%')\n",
    "ax.set_title(\"Churn Rate by internet service\")\n",
    "ax.set_ylabel(\"Churn Rate (%)\")\n",
    "ax.set_xlabel(\"Internet service\")\n",
    "ax.set_ylim(0, 50)\n",
    "\n",
    "plt.tight_layout()\n",
    "plt.show()\n",
    "\n"
   ]
  },
  {
   "cell_type": "markdown",
   "id": "0d3d29a7",
   "metadata": {},
   "source": [
    "I google it and: \n",
    "- DSL: an older type of internet based on a telephone line, slower than fiber optic\n",
    "- Fiber optic: modern fiber-optic internet, very fast\n",
    "\n",
    "So, is strange that clinets churn fiber optic internet service more often than DLS\n",
    "\n",
    "---"
   ]
  },
  {
   "cell_type": "markdown",
   "id": "397739fb",
   "metadata": {},
   "source": [
    "### online_security"
   ]
  },
  {
   "cell_type": "code",
   "execution_count": 37,
   "id": "7519e0f6",
   "metadata": {},
   "outputs": [
    {
     "data": {
      "application/vnd.microsoft.datawrangler.viewer.v0+json": {
       "columns": [
        {
         "name": "online_security",
         "rawType": "object",
         "type": "string"
        },
        {
         "name": "customer",
         "rawType": "int64",
         "type": "integer"
        },
        {
         "name": "churners",
         "rawType": "int64",
         "type": "integer"
        },
        {
         "name": "churn_rate",
         "rawType": "float64",
         "type": "float"
        }
       ],
       "ref": "b4c2ad9f-2d74-433c-bacc-6c59e2c6b1bd",
       "rows": [
        [
         "No",
         "3498",
         "1461",
         "41.77"
        ],
        [
         "No internet service",
         "1526",
         "113",
         "7.4"
        ],
        [
         "Yes",
         "2019",
         "295",
         "14.61"
        ]
       ],
       "shape": {
        "columns": 3,
        "rows": 3
       }
      },
      "text/html": [
       "<div>\n",
       "<style scoped>\n",
       "    .dataframe tbody tr th:only-of-type {\n",
       "        vertical-align: middle;\n",
       "    }\n",
       "\n",
       "    .dataframe tbody tr th {\n",
       "        vertical-align: top;\n",
       "    }\n",
       "\n",
       "    .dataframe thead th {\n",
       "        text-align: right;\n",
       "    }\n",
       "</style>\n",
       "<table border=\"1\" class=\"dataframe\">\n",
       "  <thead>\n",
       "    <tr style=\"text-align: right;\">\n",
       "      <th></th>\n",
       "      <th>customer</th>\n",
       "      <th>churners</th>\n",
       "      <th>churn_rate</th>\n",
       "    </tr>\n",
       "    <tr>\n",
       "      <th>online_security</th>\n",
       "      <th></th>\n",
       "      <th></th>\n",
       "      <th></th>\n",
       "    </tr>\n",
       "  </thead>\n",
       "  <tbody>\n",
       "    <tr>\n",
       "      <th>No</th>\n",
       "      <td>3498</td>\n",
       "      <td>1461</td>\n",
       "      <td>41.77</td>\n",
       "    </tr>\n",
       "    <tr>\n",
       "      <th>No internet service</th>\n",
       "      <td>1526</td>\n",
       "      <td>113</td>\n",
       "      <td>7.40</td>\n",
       "    </tr>\n",
       "    <tr>\n",
       "      <th>Yes</th>\n",
       "      <td>2019</td>\n",
       "      <td>295</td>\n",
       "      <td>14.61</td>\n",
       "    </tr>\n",
       "  </tbody>\n",
       "</table>\n",
       "</div>"
      ],
      "text/plain": [
       "                     customer  churners  churn_rate\n",
       "online_security                                    \n",
       "No                       3498      1461       41.77\n",
       "No internet service      1526       113        7.40\n",
       "Yes                      2019       295       14.61"
      ]
     },
     "execution_count": 37,
     "metadata": {},
     "output_type": "execute_result"
    }
   ],
   "source": [
    "online_security = df_clean.groupby('online_security')['churn_value'].agg(\n",
    "    customer='count',\n",
    "    churners='sum',\n",
    "    churn_rate='mean',\n",
    ").sort_values('online_security')\n",
    "\n",
    "online_security['churn_rate'] = (online_security['churn_rate'] * 100).round(2)\n",
    "online_security"
   ]
  },
  {
   "cell_type": "code",
   "execution_count": 38,
   "id": "5edd7ca7",
   "metadata": {},
   "outputs": [
    {
     "data": {
      "image/png": "[encoded data removed]",
      "text/plain": [
       "<Figure size 700x500 with 1 Axes>"
      ]
     },
     "metadata": {},
     "output_type": "display_data"
    }
   ],
   "source": [
    "labels = online_security.index\n",
    "values = online_security['churn_rate']\n",
    "\n",
    "fig, ax = plt.subplots(figsize=(7, 5))\n",
    "bars = ax.bar(labels, values, color=['red', 'orange', 'yellow'])\n",
    "ax.bar_label(bars, fmt='%.2f%%')\n",
    "ax.set_title('Churn Rate by online security')\n",
    "ax.set_ylabel('Churn Rate [%]')\n",
    "ax.set_xlabel('Online service')\n",
    "ax.set_ylim(0, 50)\n",
    "\n",
    "plt.tight_layout()\n",
    "plt.show()\n"
   ]
  },
  {
   "cell_type": "markdown",
   "id": "5cb18eb3",
   "metadata": {},
   "source": [
    "No online security strongly correlate with churn\n",
    "\n",
    "---"
   ]
  },
  {
   "cell_type": "markdown",
   "id": "731cc16f",
   "metadata": {},
   "source": [
    "### online_backup"
   ]
  },
  {
   "cell_type": "code",
   "execution_count": 39,
   "id": "4e0475de",
   "metadata": {},
   "outputs": [
    {
     "data": {
      "application/vnd.microsoft.datawrangler.viewer.v0+json": {
       "columns": [
        {
         "name": "online_backup",
         "rawType": "object",
         "type": "string"
        },
        {
         "name": "customer",
         "rawType": "int64",
         "type": "integer"
        },
        {
         "name": "churners",
         "rawType": "int64",
         "type": "integer"
        },
        {
         "name": "churn_rate",
         "rawType": "float64",
         "type": "float"
        }
       ],
       "ref": "8ac334cd-a87c-4d30-97eb-24f9b9f2e815",
       "rows": [
        [
         "No",
         "3088",
         "1233",
         "39.93"
        ],
        [
         "No internet service",
         "1526",
         "113",
         "7.4"
        ],
        [
         "Yes",
         "2429",
         "523",
         "21.53"
        ]
       ],
       "shape": {
        "columns": 3,
        "rows": 3
       }
      },
      "text/html": [
       "<div>\n",
       "<style scoped>\n",
       "    .dataframe tbody tr th:only-of-type {\n",
       "        vertical-align: middle;\n",
       "    }\n",
       "\n",
       "    .dataframe tbody tr th {\n",
       "        vertical-align: top;\n",
       "    }\n",
       "\n",
       "    .dataframe thead th {\n",
       "        text-align: right;\n",
       "    }\n",
       "</style>\n",
       "<table border=\"1\" class=\"dataframe\">\n",
       "  <thead>\n",
       "    <tr style=\"text-align: right;\">\n",
       "      <th></th>\n",
       "      <th>customer</th>\n",
       "      <th>churners</th>\n",
       "      <th>churn_rate</th>\n",
       "    </tr>\n",
       "    <tr>\n",
       "      <th>online_backup</th>\n",
       "      <th></th>\n",
       "      <th></th>\n",
       "      <th></th>\n",
       "    </tr>\n",
       "  </thead>\n",
       "  <tbody>\n",
       "    <tr>\n",
       "      <th>No</th>\n",
       "      <td>3088</td>\n",
       "      <td>1233</td>\n",
       "      <td>39.93</td>\n",
       "    </tr>\n",
       "    <tr>\n",
       "      <th>No internet service</th>\n",
       "      <td>1526</td>\n",
       "      <td>113</td>\n",
       "      <td>7.40</td>\n",
       "    </tr>\n",
       "    <tr>\n",
       "      <th>Yes</th>\n",
       "      <td>2429</td>\n",
       "      <td>523</td>\n",
       "      <td>21.53</td>\n",
       "    </tr>\n",
       "  </tbody>\n",
       "</table>\n",
       "</div>"
      ],
      "text/plain": [
       "                     customer  churners  churn_rate\n",
       "online_backup                                      \n",
       "No                       3088      1233       39.93\n",
       "No internet service      1526       113        7.40\n",
       "Yes                      2429       523       21.53"
      ]
     },
     "execution_count": 39,
     "metadata": {},
     "output_type": "execute_result"
    }
   ],
   "source": [
    "online_backup = df_clean.groupby('online_backup')['churn_value'].agg(\n",
    "    customer='count',\n",
    "    churners='sum',\n",
    "    churn_rate='mean'\n",
    ").sort_values('online_backup')\n",
    "\n",
    "online_backup['churn_rate'] = (online_backup['churn_rate'] * 100).round(2)\n",
    "online_backup"
   ]
  },
  {
   "cell_type": "code",
   "execution_count": 40,
   "id": "07f5e2e3",
   "metadata": {},
   "outputs": [
    {
     "data": {
      "image/png": "[encoded data removed]",
      "text/plain": [
       "<Figure size 700x500 with 1 Axes>"
      ]
     },
     "metadata": {},
     "output_type": "display_data"
    }
   ],
   "source": [
    "labels = online_backup.index\n",
    "values = online_backup['churn_rate']\n",
    "\n",
    "fig, ax = plt.subplots(figsize=(7, 5))\n",
    "bars = ax.bar(labels, values, color=['red', 'orange', 'yellow'])\n",
    "ax.bar_label(bars, fmt='%.2f%%')\n",
    "ax.set_title('Churn Rate by online backup')\n",
    "ax.set_ylabel('Churn Rate [%]')\n",
    "ax.set_xlabel('Online backup')\n",
    "ax.set_ylim(0, 50)\n",
    "\n",
    "plt.tight_layout()\n",
    "plt.show()\n"
   ]
  },
  {
   "cell_type": "markdown",
   "id": "f8345055",
   "metadata": {},
   "source": [
    "### device_protection"
   ]
  },
  {
   "cell_type": "code",
   "execution_count": 41,
   "id": "d55c7182",
   "metadata": {},
   "outputs": [
    {
     "data": {
      "application/vnd.microsoft.datawrangler.viewer.v0+json": {
       "columns": [
        {
         "name": "device_protection",
         "rawType": "object",
         "type": "string"
        },
        {
         "name": "customer",
         "rawType": "int64",
         "type": "integer"
        },
        {
         "name": "churners",
         "rawType": "int64",
         "type": "integer"
        },
        {
         "name": "churn_rate",
         "rawType": "float64",
         "type": "float"
        }
       ],
       "ref": "ab232d19-891a-469c-afaf-7144427d9341",
       "rows": [
        [
         "No",
         "3095",
         "1211",
         "39.13"
        ],
        [
         "No internet service",
         "1526",
         "113",
         "7.4"
        ],
        [
         "Yes",
         "2422",
         "545",
         "22.5"
        ]
       ],
       "shape": {
        "columns": 3,
        "rows": 3
       }
      },
      "text/html": [
       "<div>\n",
       "<style scoped>\n",
       "    .dataframe tbody tr th:only-of-type {\n",
       "        vertical-align: middle;\n",
       "    }\n",
       "\n",
       "    .dataframe tbody tr th {\n",
       "        vertical-align: top;\n",
       "    }\n",
       "\n",
       "    .dataframe thead th {\n",
       "        text-align: right;\n",
       "    }\n",
       "</style>\n",
       "<table border=\"1\" class=\"dataframe\">\n",
       "  <thead>\n",
       "    <tr style=\"text-align: right;\">\n",
       "      <th></th>\n",
       "      <th>customer</th>\n",
       "      <th>churners</th>\n",
       "      <th>churn_rate</th>\n",
       "    </tr>\n",
       "    <tr>\n",
       "      <th>device_protection</th>\n",
       "      <th></th>\n",
       "      <th></th>\n",
       "      <th></th>\n",
       "    </tr>\n",
       "  </thead>\n",
       "  <tbody>\n",
       "    <tr>\n",
       "      <th>No</th>\n",
       "      <td>3095</td>\n",
       "      <td>1211</td>\n",
       "      <td>39.13</td>\n",
       "    </tr>\n",
       "    <tr>\n",
       "      <th>No internet service</th>\n",
       "      <td>1526</td>\n",
       "      <td>113</td>\n",
       "      <td>7.40</td>\n",
       "    </tr>\n",
       "    <tr>\n",
       "      <th>Yes</th>\n",
       "      <td>2422</td>\n",
       "      <td>545</td>\n",
       "      <td>22.50</td>\n",
       "    </tr>\n",
       "  </tbody>\n",
       "</table>\n",
       "</div>"
      ],
      "text/plain": [
       "                     customer  churners  churn_rate\n",
       "device_protection                                  \n",
       "No                       3095      1211       39.13\n",
       "No internet service      1526       113        7.40\n",
       "Yes                      2422       545       22.50"
      ]
     },
     "execution_count": 41,
     "metadata": {},
     "output_type": "execute_result"
    }
   ],
   "source": [
    "device_protection = df_clean.groupby('device_protection')['churn_value'].agg(\n",
    "    customer='count',\n",
    "    churners='sum',\n",
    "    churn_rate='mean'\n",
    ").sort_values('device_protection')\n",
    "\n",
    "device_protection['churn_rate'] = (device_protection['churn_rate'] * 100).round(2)\n",
    "device_protection"
   ]
  },
  {
   "cell_type": "code",
   "execution_count": 42,
   "id": "c3b91e70",
   "metadata": {},
   "outputs": [
    {
     "data": {
      "image/png": "[encoded data removed]",
      "text/plain": [
       "<Figure size 700x500 with 1 Axes>"
      ]
     },
     "metadata": {},
     "output_type": "display_data"
    }
   ],
   "source": [
    "labels = device_protection.index\n",
    "values = device_protection['churn_rate']\n",
    "\n",
    "fig, ax = plt.subplots(figsize=(7, 5))\n",
    "bars = ax.bar(labels, values, color=['red', 'orange', 'yellow'])\n",
    "ax.bar_label(bars, fmt='%.2f%%')\n",
    "ax.set_title('Churn Rate by device protection')\n",
    "ax.set_ylabel('Churn Rate [%]')\n",
    "ax.set_xlabel('device_protection')\n",
    "ax.set_ylim(0, 50)\n",
    "\n",
    "plt.tight_layout()\n",
    "plt.show()"
   ]
  },
  {
   "cell_type": "markdown",
   "id": "c418fcbf",
   "metadata": {},
   "source": [
    "### tech_support"
   ]
  },
  {
   "cell_type": "code",
   "execution_count": 43,
   "id": "5cc0afff",
   "metadata": {},
   "outputs": [
    {
     "data": {
      "application/vnd.microsoft.datawrangler.viewer.v0+json": {
       "columns": [
        {
         "name": "tech_support",
         "rawType": "object",
         "type": "string"
        },
        {
         "name": "customer",
         "rawType": "int64",
         "type": "integer"
        },
        {
         "name": "churners",
         "rawType": "int64",
         "type": "integer"
        },
        {
         "name": "churn_rate",
         "rawType": "float64",
         "type": "float"
        }
       ],
       "ref": "40f3a740-cfe3-4975-bfc2-553e5f066eed",
       "rows": [
        [
         "No",
         "3473",
         "1446",
         "41.64"
        ],
        [
         "No internet service",
         "1526",
         "113",
         "7.4"
        ],
        [
         "Yes",
         "2044",
         "310",
         "15.17"
        ]
       ],
       "shape": {
        "columns": 3,
        "rows": 3
       }
      },
      "text/html": [
       "<div>\n",
       "<style scoped>\n",
       "    .dataframe tbody tr th:only-of-type {\n",
       "        vertical-align: middle;\n",
       "    }\n",
       "\n",
       "    .dataframe tbody tr th {\n",
       "        vertical-align: top;\n",
       "    }\n",
       "\n",
       "    .dataframe thead th {\n",
       "        text-align: right;\n",
       "    }\n",
       "</style>\n",
       "<table border=\"1\" class=\"dataframe\">\n",
       "  <thead>\n",
       "    <tr style=\"text-align: right;\">\n",
       "      <th></th>\n",
       "      <th>customer</th>\n",
       "      <th>churners</th>\n",
       "      <th>churn_rate</th>\n",
       "    </tr>\n",
       "    <tr>\n",
       "      <th>tech_support</th>\n",
       "      <th></th>\n",
       "      <th></th>\n",
       "      <th></th>\n",
       "    </tr>\n",
       "  </thead>\n",
       "  <tbody>\n",
       "    <tr>\n",
       "      <th>No</th>\n",
       "      <td>3473</td>\n",
       "      <td>1446</td>\n",
       "      <td>41.64</td>\n",
       "    </tr>\n",
       "    <tr>\n",
       "      <th>No internet service</th>\n",
       "      <td>1526</td>\n",
       "      <td>113</td>\n",
       "      <td>7.40</td>\n",
       "    </tr>\n",
       "    <tr>\n",
       "      <th>Yes</th>\n",
       "      <td>2044</td>\n",
       "      <td>310</td>\n",
       "      <td>15.17</td>\n",
       "    </tr>\n",
       "  </tbody>\n",
       "</table>\n",
       "</div>"
      ],
      "text/plain": [
       "                     customer  churners  churn_rate\n",
       "tech_support                                       \n",
       "No                       3473      1446       41.64\n",
       "No internet service      1526       113        7.40\n",
       "Yes                      2044       310       15.17"
      ]
     },
     "execution_count": 43,
     "metadata": {},
     "output_type": "execute_result"
    }
   ],
   "source": [
    "tech_support = df_clean.groupby('tech_support')['churn_value'].agg(\n",
    "    customer='count',\n",
    "    churners='sum',\n",
    "    churn_rate='mean'\n",
    ").sort_values('tech_support')\n",
    "\n",
    "tech_support['churn_rate'] = (tech_support['churn_rate'] * 100).round(2)\n",
    "tech_support"
   ]
  },
  {
   "cell_type": "code",
   "execution_count": 44,
   "id": "cc7b083e",
   "metadata": {},
   "outputs": [
    {
     "data": {
      "image/png": "[encoded data removed]",
      "text/plain": [
       "<Figure size 700x500 with 1 Axes>"
      ]
     },
     "metadata": {},
     "output_type": "display_data"
    }
   ],
   "source": [
    "labels = tech_support.index\n",
    "values = tech_support['churn_rate']\n",
    "\n",
    "fig, ax = plt.subplots(figsize=(7, 5))\n",
    "bars = ax.bar(labels, values, color=['red', 'orange', 'yellow'])\n",
    "ax.bar_label(bars, fmt='%.2f%%')\n",
    "ax.set_title('Churn Rate by tech support')\n",
    "ax.set_ylabel('Churn Rate [%]')\n",
    "ax.set_xlabel('tech_support')\n",
    "ax.set_ylim(0, 50)\n",
    "\n",
    "plt.tight_layout()\n",
    "plt.show()"
   ]
  },
  {
   "cell_type": "markdown",
   "id": "7f4e17aa",
   "metadata": {},
   "source": [
    "Customers who subscribe to multiple additional services (e.g., online security, technical support) tend to churn less. This may indicate that these customers are more satisfied with the service. In contrast, those who do not use such add-ons may cancel more easily or switch to a better offer.\n",
    "\n",
    "---"
   ]
  },
  {
   "cell_type": "markdown",
   "id": "a3b3a6f3",
   "metadata": {},
   "source": [
    "### streaming_tv"
   ]
  },
  {
   "cell_type": "code",
   "execution_count": 45,
   "id": "7325f300",
   "metadata": {},
   "outputs": [
    {
     "data": {
      "application/vnd.microsoft.datawrangler.viewer.v0+json": {
       "columns": [
        {
         "name": "streaming_tv",
         "rawType": "object",
         "type": "string"
        },
        {
         "name": "customer",
         "rawType": "int64",
         "type": "integer"
        },
        {
         "name": "churners",
         "rawType": "int64",
         "type": "integer"
        },
        {
         "name": "churn_rate",
         "rawType": "float64",
         "type": "float"
        }
       ],
       "ref": "0e8778b0-240d-44ca-a233-71b5d504ea43",
       "rows": [
        [
         "No",
         "2810",
         "942",
         "33.52"
        ],
        [
         "No internet service",
         "1526",
         "113",
         "7.4"
        ],
        [
         "Yes",
         "2707",
         "814",
         "30.07"
        ]
       ],
       "shape": {
        "columns": 3,
        "rows": 3
       }
      },
      "text/html": [
       "<div>\n",
       "<style scoped>\n",
       "    .dataframe tbody tr th:only-of-type {\n",
       "        vertical-align: middle;\n",
       "    }\n",
       "\n",
       "    .dataframe tbody tr th {\n",
       "        vertical-align: top;\n",
       "    }\n",
       "\n",
       "    .dataframe thead th {\n",
       "        text-align: right;\n",
       "    }\n",
       "</style>\n",
       "<table border=\"1\" class=\"dataframe\">\n",
       "  <thead>\n",
       "    <tr style=\"text-align: right;\">\n",
       "      <th></th>\n",
       "      <th>customer</th>\n",
       "      <th>churners</th>\n",
       "      <th>churn_rate</th>\n",
       "    </tr>\n",
       "    <tr>\n",
       "      <th>streaming_tv</th>\n",
       "      <th></th>\n",
       "      <th></th>\n",
       "      <th></th>\n",
       "    </tr>\n",
       "  </thead>\n",
       "  <tbody>\n",
       "    <tr>\n",
       "      <th>No</th>\n",
       "      <td>2810</td>\n",
       "      <td>942</td>\n",
       "      <td>33.52</td>\n",
       "    </tr>\n",
       "    <tr>\n",
       "      <th>No internet service</th>\n",
       "      <td>1526</td>\n",
       "      <td>113</td>\n",
       "      <td>7.40</td>\n",
       "    </tr>\n",
       "    <tr>\n",
       "      <th>Yes</th>\n",
       "      <td>2707</td>\n",
       "      <td>814</td>\n",
       "      <td>30.07</td>\n",
       "    </tr>\n",
       "  </tbody>\n",
       "</table>\n",
       "</div>"
      ],
      "text/plain": [
       "                     customer  churners  churn_rate\n",
       "streaming_tv                                       \n",
       "No                       2810       942       33.52\n",
       "No internet service      1526       113        7.40\n",
       "Yes                      2707       814       30.07"
      ]
     },
     "execution_count": 45,
     "metadata": {},
     "output_type": "execute_result"
    }
   ],
   "source": [
    "streaming_tv = df_clean.groupby('streaming_tv')['churn_value'].agg(\n",
    "    customer='count',\n",
    "    churners='sum',\n",
    "    churn_rate='mean'\n",
    ").sort_values('streaming_tv')\n",
    "\n",
    "streaming_tv['churn_rate'] = (streaming_tv['churn_rate'] * 100).round(2)\n",
    "streaming_tv"
   ]
  },
  {
   "cell_type": "markdown",
   "id": "e7542820",
   "metadata": {},
   "source": [
    "### streaming_movies"
   ]
  },
  {
   "cell_type": "code",
   "execution_count": 46,
   "id": "dbf47621",
   "metadata": {},
   "outputs": [
    {
     "data": {
      "application/vnd.microsoft.datawrangler.viewer.v0+json": {
       "columns": [
        {
         "name": "streaming_movies",
         "rawType": "object",
         "type": "string"
        },
        {
         "name": "customer",
         "rawType": "int64",
         "type": "integer"
        },
        {
         "name": "churners",
         "rawType": "int64",
         "type": "integer"
        },
        {
         "name": "churn_rate",
         "rawType": "float64",
         "type": "float"
        }
       ],
       "ref": "095c1a99-ac73-40bb-8ca8-030be749e597",
       "rows": [
        [
         "No",
         "2785",
         "938",
         "33.68"
        ],
        [
         "No internet service",
         "1526",
         "113",
         "7.4"
        ],
        [
         "Yes",
         "2732",
         "818",
         "29.94"
        ]
       ],
       "shape": {
        "columns": 3,
        "rows": 3
       }
      },
      "text/html": [
       "<div>\n",
       "<style scoped>\n",
       "    .dataframe tbody tr th:only-of-type {\n",
       "        vertical-align: middle;\n",
       "    }\n",
       "\n",
       "    .dataframe tbody tr th {\n",
       "        vertical-align: top;\n",
       "    }\n",
       "\n",
       "    .dataframe thead th {\n",
       "        text-align: right;\n",
       "    }\n",
       "</style>\n",
       "<table border=\"1\" class=\"dataframe\">\n",
       "  <thead>\n",
       "    <tr style=\"text-align: right;\">\n",
       "      <th></th>\n",
       "      <th>customer</th>\n",
       "      <th>churners</th>\n",
       "      <th>churn_rate</th>\n",
       "    </tr>\n",
       "    <tr>\n",
       "      <th>streaming_movies</th>\n",
       "      <th></th>\n",
       "      <th></th>\n",
       "      <th></th>\n",
       "    </tr>\n",
       "  </thead>\n",
       "  <tbody>\n",
       "    <tr>\n",
       "      <th>No</th>\n",
       "      <td>2785</td>\n",
       "      <td>938</td>\n",
       "      <td>33.68</td>\n",
       "    </tr>\n",
       "    <tr>\n",
       "      <th>No internet service</th>\n",
       "      <td>1526</td>\n",
       "      <td>113</td>\n",
       "      <td>7.40</td>\n",
       "    </tr>\n",
       "    <tr>\n",
       "      <th>Yes</th>\n",
       "      <td>2732</td>\n",
       "      <td>818</td>\n",
       "      <td>29.94</td>\n",
       "    </tr>\n",
       "  </tbody>\n",
       "</table>\n",
       "</div>"
      ],
      "text/plain": [
       "                     customer  churners  churn_rate\n",
       "streaming_movies                                   \n",
       "No                       2785       938       33.68\n",
       "No internet service      1526       113        7.40\n",
       "Yes                      2732       818       29.94"
      ]
     },
     "execution_count": 46,
     "metadata": {},
     "output_type": "execute_result"
    }
   ],
   "source": [
    "streaming_movies = df_clean.groupby('streaming_movies')['churn_value'].agg(\n",
    "    customer='count',\n",
    "    churners='sum',\n",
    "    churn_rate='mean'\n",
    ").sort_values('streaming_movies')\n",
    "\n",
    "streaming_movies['churn_rate'] = (streaming_movies['churn_rate'] * 100).round(2)\n",
    "streaming_movies"
   ]
  },
  {
   "cell_type": "markdown",
   "id": "70fb010f",
   "metadata": {},
   "source": [
    "The company doesn't charge an additional fee for streaming tv or movies \n",
    "\n",
    "---"
   ]
  },
  {
   "cell_type": "markdown",
   "id": "031e00c1",
   "metadata": {},
   "source": [
    "### Now lets talk about payment methods"
   ]
  },
  {
   "cell_type": "code",
   "execution_count": 47,
   "id": "b83f1e00",
   "metadata": {},
   "outputs": [
    {
     "data": {
      "application/vnd.microsoft.datawrangler.viewer.v0+json": {
       "columns": [
        {
         "name": "payment_method",
         "rawType": "object",
         "type": "string"
        },
        {
         "name": "customer",
         "rawType": "int64",
         "type": "integer"
        },
        {
         "name": "churners",
         "rawType": "int64",
         "type": "integer"
        },
        {
         "name": "churn_rate",
         "rawType": "float64",
         "type": "float"
        }
       ],
       "ref": "39ce3d90-b165-4d47-b86d-79d8d4d63f48",
       "rows": [
        [
         "Bank transfer (automatic)",
         "1544",
         "258",
         "16.71"
        ],
        [
         "Credit card (automatic)",
         "1522",
         "232",
         "15.24"
        ],
        [
         "Electronic check",
         "2365",
         "1071",
         "45.29"
        ],
        [
         "Mailed check",
         "1612",
         "308",
         "19.11"
        ]
       ],
       "shape": {
        "columns": 3,
        "rows": 4
       }
      },
      "text/html": [
       "<div>\n",
       "<style scoped>\n",
       "    .dataframe tbody tr th:only-of-type {\n",
       "        vertical-align: middle;\n",
       "    }\n",
       "\n",
       "    .dataframe tbody tr th {\n",
       "        vertical-align: top;\n",
       "    }\n",
       "\n",
       "    .dataframe thead th {\n",
       "        text-align: right;\n",
       "    }\n",
       "</style>\n",
       "<table border=\"1\" class=\"dataframe\">\n",
       "  <thead>\n",
       "    <tr style=\"text-align: right;\">\n",
       "      <th></th>\n",
       "      <th>customer</th>\n",
       "      <th>churners</th>\n",
       "      <th>churn_rate</th>\n",
       "    </tr>\n",
       "    <tr>\n",
       "      <th>payment_method</th>\n",
       "      <th></th>\n",
       "      <th></th>\n",
       "      <th></th>\n",
       "    </tr>\n",
       "  </thead>\n",
       "  <tbody>\n",
       "    <tr>\n",
       "      <th>Bank transfer (automatic)</th>\n",
       "      <td>1544</td>\n",
       "      <td>258</td>\n",
       "      <td>16.71</td>\n",
       "    </tr>\n",
       "    <tr>\n",
       "      <th>Credit card (automatic)</th>\n",
       "      <td>1522</td>\n",
       "      <td>232</td>\n",
       "      <td>15.24</td>\n",
       "    </tr>\n",
       "    <tr>\n",
       "      <th>Electronic check</th>\n",
       "      <td>2365</td>\n",
       "      <td>1071</td>\n",
       "      <td>45.29</td>\n",
       "    </tr>\n",
       "    <tr>\n",
       "      <th>Mailed check</th>\n",
       "      <td>1612</td>\n",
       "      <td>308</td>\n",
       "      <td>19.11</td>\n",
       "    </tr>\n",
       "  </tbody>\n",
       "</table>\n",
       "</div>"
      ],
      "text/plain": [
       "                           customer  churners  churn_rate\n",
       "payment_method                                           \n",
       "Bank transfer (automatic)      1544       258       16.71\n",
       "Credit card (automatic)        1522       232       15.24\n",
       "Electronic check               2365      1071       45.29\n",
       "Mailed check                   1612       308       19.11"
      ]
     },
     "execution_count": 47,
     "metadata": {},
     "output_type": "execute_result"
    }
   ],
   "source": [
    "payment_method = df_clean.groupby('payment_method')['churn_value'].agg(\n",
    "    customer='count',\n",
    "    churners='sum',\n",
    "    churn_rate='mean'\n",
    ").sort_values('payment_method')\n",
    "\n",
    "payment_method['churn_rate'] = (payment_method['churn_rate'] * 100).round(2)\n",
    "payment_method"
   ]
  },
  {
   "cell_type": "code",
   "execution_count": 48,
   "id": "147d4303",
   "metadata": {},
   "outputs": [
    {
     "data": {
      "image/png": "[encoded data removed]",
      "text/plain": [
       "<Figure size 700x500 with 1 Axes>"
      ]
     },
     "metadata": {},
     "output_type": "display_data"
    }
   ],
   "source": [
    "labels = payment_method.index\n",
    "values = payment_method['churn_rate']\n",
    "\n",
    "fig, ax = plt.subplots(figsize=(7, 5))\n",
    "bars = ax.bar(labels, values, color=['red', 'orange', 'yellow'])\n",
    "\n",
    "ax.bar_label(bars, fmt='%.2f%%')\n",
    "ax.set_title('Churn Rate by payment method')\n",
    "ax.set_ylabel('Churn Rate [%]')\n",
    "ax.set_xlabel('payment_method')\n",
    "ax.set_ylim(0, 50)\n",
    "plt.xticks(rotation=90)\n",
    "\n",
    "plt.tight_layout()\n",
    "plt.show()"
   ]
  },
  {
   "cell_type": "markdown",
   "id": "b9dcf311",
   "metadata": {},
   "source": [
    "- Customers paying via Electronic check have the highest churn rate – 45.29%.\n",
    "- Customers using automatic payment methods (credit card / bank transfer) show a much lower churn rate (15–17%).\n",
    "\n",
    "Customers with automatic payments tend to be more loyal, they don’t need to remember to pay manually, which reduces the likelihood of impulsive cancellation.\n",
    "\n",
    "Those using Electronic checks may be less engaged or less committed to the service.\n",
    "\n",
    "Additionally, customers with automatic payments might intend to cancel at some point but forget or postpone it, once the payment is processed automatically, they often decide to keep the service until the next billing cycle.\n",
    "\n",
    "--- "
   ]
  },
  {
   "cell_type": "markdown",
   "id": "3417d692",
   "metadata": {},
   "source": [
    "### cltv"
   ]
  },
  {
   "cell_type": "code",
   "execution_count": 49,
   "id": "1451f97c",
   "metadata": {},
   "outputs": [
    {
     "data": {
      "text/plain": [
       "<Axes: >"
      ]
     },
     "execution_count": 49,
     "metadata": {},
     "output_type": "execute_result"
    },
    {
     "data": {
      "image/png": "[encoded data removed]",
      "text/plain": [
       "<Figure size 1000x600 with 2 Axes>"
      ]
     },
     "metadata": {},
     "output_type": "display_data"
    }
   ],
   "source": [
    "cltv = df_clean[['cltv', 'tenure_months', 'monthly_charges', 'total_charges', 'churn_value']].corr()\n",
    "plt.figure(figsize=(10, 6))\n",
    "sns.heatmap(cltv, annot=True, fmt=\".2f\", cmap='viridis')"
   ]
  },
  {
   "cell_type": "markdown",
   "id": "d6e6b749",
   "metadata": {},
   "source": [
    "Due to the description of CLTV as the \"predicted customer value,\" we wanted to ensure that it is not simply a derivative of other variables such as tenure, monthly_charges, or total_charges.\n",
    "\n",
    "Conclusions:\n",
    "CLTV shows a moderate correlation with tenure and total_charges but is not strongly related to them (no correlation > 0.8). Therefore, we can assume that it is not a redundant variable and may contribute independent predictive value to the model. It remains as a numerical variable.\n",
    "\n",
    "---"
   ]
  },
  {
   "cell_type": "markdown",
   "id": "953efbd5",
   "metadata": {},
   "source": [
    "### churn_reason"
   ]
  },
  {
   "cell_type": "code",
   "execution_count": 50,
   "id": "3a128f2b",
   "metadata": {},
   "outputs": [
    {
     "data": {
      "image/png": "[encoded data removed]",
      "text/plain": [
       "<Figure size 1200x800 with 1 Axes>"
      ]
     },
     "metadata": {},
     "output_type": "display_data"
    }
   ],
   "source": [
    "churn_reason_counts = df_clean['churn_reason'].value_counts().sort_values()\n",
    "\n",
    "plt.figure(figsize=(12, 8))\n",
    "bars = plt.barh(\n",
    "    churn_reason_counts.index, \n",
    "    churn_reason_counts.values, \n",
    "    color='skyblue',\n",
    "    edgecolor='black')\n",
    "plt.bar_label(bars, fmt='%.0f', padding=5)\n",
    "plt.title('All reported churn reasons')\n",
    "plt.xlabel('Number of Churners')\n",
    "plt.ylabel(\"Churn reason\")\n",
    "plt.tight_layout()\n",
    "plt.show()"
   ]
  },
  {
   "cell_type": "markdown",
   "id": "d4f7e7e3",
   "metadata": {},
   "source": [
    "- The most common reason for churn is customer service quality: issues like the attitude of support staff and service provider behavior indicate a need to improve client interactions.\n",
    "- Competitive offers strongly drive churn – many customers leave for better prices, devices, or higher internet speeds, so the company should actively monitor the market and adjust its offer.\n",
    "- A notable share of customers don’t know why they left\n",
    "---"
   ]
  },
  {
   "cell_type": "markdown",
   "id": "addb3f96",
   "metadata": {},
   "source": [
    "### internet_service & payment_method"
   ]
  },
  {
   "cell_type": "code",
   "execution_count": 51,
   "id": "b56b5050",
   "metadata": {},
   "outputs": [
    {
     "data": {
      "application/vnd.microsoft.datawrangler.viewer.v0+json": {
       "columns": [
        {
         "name": "internet_service",
         "rawType": "object",
         "type": "string"
        },
        {
         "name": "Bank transfer (automatic)",
         "rawType": "float64",
         "type": "float"
        },
        {
         "name": "Credit card (automatic)",
         "rawType": "float64",
         "type": "float"
        },
        {
         "name": "Electronic check",
         "rawType": "float64",
         "type": "float"
        },
        {
         "name": "Mailed check",
         "rawType": "float64",
         "type": "float"
        }
       ],
       "ref": "18b2886a-2f6b-40e9-a5c6-8f63bc0c10ad",
       "rows": [
        [
         "DSL",
         "9.36",
         "12.12",
         "31.94",
         "20.72"
        ],
        [
         "Fiber optic",
         "28.95",
         "25.29",
         "53.23",
         "42.64"
        ],
        [
         "No",
         "5.42",
         "2.72",
         "12.3",
         "9.58"
        ]
       ],
       "shape": {
        "columns": 4,
        "rows": 3
       }
      },
      "text/html": [
       "<div>\n",
       "<style scoped>\n",
       "    .dataframe tbody tr th:only-of-type {\n",
       "        vertical-align: middle;\n",
       "    }\n",
       "\n",
       "    .dataframe tbody tr th {\n",
       "        vertical-align: top;\n",
       "    }\n",
       "\n",
       "    .dataframe thead th {\n",
       "        text-align: right;\n",
       "    }\n",
       "</style>\n",
       "<table border=\"1\" class=\"dataframe\">\n",
       "  <thead>\n",
       "    <tr style=\"text-align: right;\">\n",
       "      <th>payment_method</th>\n",
       "      <th>Bank transfer (automatic)</th>\n",
       "      <th>Credit card (automatic)</th>\n",
       "      <th>Electronic check</th>\n",
       "      <th>Mailed check</th>\n",
       "    </tr>\n",
       "    <tr>\n",
       "      <th>internet_service</th>\n",
       "      <th></th>\n",
       "      <th></th>\n",
       "      <th></th>\n",
       "      <th></th>\n",
       "    </tr>\n",
       "  </thead>\n",
       "  <tbody>\n",
       "    <tr>\n",
       "      <th>DSL</th>\n",
       "      <td>9.36</td>\n",
       "      <td>12.12</td>\n",
       "      <td>31.94</td>\n",
       "      <td>20.72</td>\n",
       "    </tr>\n",
       "    <tr>\n",
       "      <th>Fiber optic</th>\n",
       "      <td>28.95</td>\n",
       "      <td>25.29</td>\n",
       "      <td>53.23</td>\n",
       "      <td>42.64</td>\n",
       "    </tr>\n",
       "    <tr>\n",
       "      <th>No</th>\n",
       "      <td>5.42</td>\n",
       "      <td>2.72</td>\n",
       "      <td>12.30</td>\n",
       "      <td>9.58</td>\n",
       "    </tr>\n",
       "  </tbody>\n",
       "</table>\n",
       "</div>"
      ],
      "text/plain": [
       "payment_method    Bank transfer (automatic)  Credit card (automatic)  \\\n",
       "internet_service                                                       \n",
       "DSL                                    9.36                    12.12   \n",
       "Fiber optic                           28.95                    25.29   \n",
       "No                                     5.42                     2.72   \n",
       "\n",
       "payment_method    Electronic check  Mailed check  \n",
       "internet_service                                  \n",
       "DSL                          31.94         20.72  \n",
       "Fiber optic                  53.23         42.64  \n",
       "No                           12.30          9.58  "
      ]
     },
     "execution_count": 51,
     "metadata": {},
     "output_type": "execute_result"
    }
   ],
   "source": [
    "pivot = df_clean.pivot_table(\n",
    "    index='internet_service',\n",
    "    columns='payment_method',\n",
    "    values='churn_value',\n",
    "    aggfunc='mean'\n",
    ")\n",
    "pivot = (pivot * 100).round(2)\n",
    "pivot\n"
   ]
  },
  {
   "cell_type": "code",
   "execution_count": 52,
   "id": "c150047f",
   "metadata": {},
   "outputs": [
    {
     "data": {
      "image/png": "[encoded data removed]",
      "text/plain": [
       "<Figure size 1000x600 with 2 Axes>"
      ]
     },
     "metadata": {},
     "output_type": "display_data"
    }
   ],
   "source": [
    "plt.figure(figsize=(10, 6))\n",
    "sns.heatmap(pivot, annot=True, fmt=\".2f\", cmap='viridis')\n",
    "plt.title(\"Churn rate [%] for internet_service & payment_method\")\n",
    "plt.ylabel(\"Internet Service\")\n",
    "plt.xlabel(\"Payment Method\")\n",
    "plt.tight_layout()\n",
    "plt.show()\n"
   ]
  },
  {
   "cell_type": "markdown",
   "id": "55d0e0f7",
   "metadata": {},
   "source": [
    "- The highest churn rate (53%) is observed among Fiber optic customers paying via Electronic check.\n",
    "- Automatic payments (Credit card, Bank transfer) reduce churn regardless of the internet type.\n",
    "- Customers without internet service show the lowest churn, especially when using automatic payment methods.\n",
    "- Internet type and payment method jointly have a strong impact on the risk of customer churn.\n",
    "\n",
    "> ### Feature Engineering ? We can create new feature e.g. internet_service + payment_method\n",
    "---"
   ]
  },
  {
   "cell_type": "markdown",
   "id": "f9fb33e0",
   "metadata": {},
   "source": [
    "### contract & tenure_bin"
   ]
  },
  {
   "cell_type": "code",
   "execution_count": 53,
   "id": "535714c6",
   "metadata": {},
   "outputs": [
    {
     "data": {
      "application/vnd.microsoft.datawrangler.viewer.v0+json": {
       "columns": [
        {
         "name": "contract",
         "rawType": "object",
         "type": "string"
        },
        {
         "name": "(-0.072, 18.0]",
         "rawType": "float64",
         "type": "float"
        },
        {
         "name": "(18.0, 36.0]",
         "rawType": "float64",
         "type": "float"
        },
        {
         "name": "(36.0, 54.0]",
         "rawType": "float64",
         "type": "float"
        },
        {
         "name": "(54.0, 72.0]",
         "rawType": "float64",
         "type": "float"
        }
       ],
       "ref": "98c53842-22d8-4483-9b98-bef35da14ece",
       "rows": [
        [
         "Month-to-month",
         "49.54",
         "32.92",
         "33.26",
         "22.37"
        ],
        [
         "One year",
         "8.88",
         "8.4",
         "13.12",
         "12.83"
        ],
        [
         "Two year",
         "0.0",
         "1.37",
         "2.99",
         "3.25"
        ]
       ],
       "shape": {
        "columns": 4,
        "rows": 3
       }
      },
      "text/html": [
       "<div>\n",
       "<style scoped>\n",
       "    .dataframe tbody tr th:only-of-type {\n",
       "        vertical-align: middle;\n",
       "    }\n",
       "\n",
       "    .dataframe tbody tr th {\n",
       "        vertical-align: top;\n",
       "    }\n",
       "\n",
       "    .dataframe thead th {\n",
       "        text-align: right;\n",
       "    }\n",
       "</style>\n",
       "<table border=\"1\" class=\"dataframe\">\n",
       "  <thead>\n",
       "    <tr style=\"text-align: right;\">\n",
       "      <th>tenure_bin</th>\n",
       "      <th>(-0.072, 18.0]</th>\n",
       "      <th>(18.0, 36.0]</th>\n",
       "      <th>(36.0, 54.0]</th>\n",
       "      <th>(54.0, 72.0]</th>\n",
       "    </tr>\n",
       "    <tr>\n",
       "      <th>contract</th>\n",
       "      <th></th>\n",
       "      <th></th>\n",
       "      <th></th>\n",
       "      <th></th>\n",
       "    </tr>\n",
       "  </thead>\n",
       "  <tbody>\n",
       "    <tr>\n",
       "      <th>Month-to-month</th>\n",
       "      <td>49.54</td>\n",
       "      <td>32.92</td>\n",
       "      <td>33.26</td>\n",
       "      <td>22.37</td>\n",
       "    </tr>\n",
       "    <tr>\n",
       "      <th>One year</th>\n",
       "      <td>8.88</td>\n",
       "      <td>8.40</td>\n",
       "      <td>13.12</td>\n",
       "      <td>12.83</td>\n",
       "    </tr>\n",
       "    <tr>\n",
       "      <th>Two year</th>\n",
       "      <td>0.00</td>\n",
       "      <td>1.37</td>\n",
       "      <td>2.99</td>\n",
       "      <td>3.25</td>\n",
       "    </tr>\n",
       "  </tbody>\n",
       "</table>\n",
       "</div>"
      ],
      "text/plain": [
       "tenure_bin      (-0.072, 18.0]  (18.0, 36.0]  (36.0, 54.0]  (54.0, 72.0]\n",
       "contract                                                                \n",
       "Month-to-month           49.54         32.92         33.26         22.37\n",
       "One year                  8.88          8.40         13.12         12.83\n",
       "Two year                  0.00          1.37          2.99          3.25"
      ]
     },
     "execution_count": 53,
     "metadata": {},
     "output_type": "execute_result"
    }
   ],
   "source": [
    "pivot = df_clean.pivot_table(\n",
    "    index='contract',\n",
    "    columns='tenure_bin',\n",
    "    values='churn_value',\n",
    "    aggfunc='mean',\n",
    "    observed=True\n",
    ")\n",
    "pivot = (pivot * 100).round(2)\n",
    "pivot\n"
   ]
  },
  {
   "cell_type": "code",
   "execution_count": 54,
   "id": "bff513f8",
   "metadata": {},
   "outputs": [
    {
     "data": {
      "image/png": "[encoded data removed]",
      "text/plain": [
       "<Figure size 1000x600 with 2 Axes>"
      ]
     },
     "metadata": {},
     "output_type": "display_data"
    }
   ],
   "source": [
    "plt.figure(figsize=(10, 6))\n",
    "sns.heatmap(pivot, annot=True, fmt=\".2f\", cmap='viridis')\n",
    "plt.title(\"Churn rate (%) dla contract i tenure_bin\")\n",
    "plt.xlabel(\"Tenure (months)\")\n",
    "plt.ylabel(\"Contract type\")\n",
    "plt.tight_layout()\n",
    "plt.show()"
   ]
  },
  {
   "cell_type": "markdown",
   "id": "5d7b308a",
   "metadata": {},
   "source": [
    "- The highest churn rate (49.5%) is observed among new customers with month-to-month contracts (<18 months) - this is the highest-risk group.\n",
    "- Churn among customers with one and two-year contracts is very low in some segments, it’s almost 0%.\n",
    "- For customers on two-year contracts, churn never exceeds 3.3%, regardless of tenure.\n",
    "- It’s clear that a short contract combined with short tenure = very high risk of churn.\n",
    "---"
   ]
  },
  {
   "cell_type": "markdown",
   "id": "63bb69e7",
   "metadata": {},
   "source": [
    "### online_security & tech_supp"
   ]
  },
  {
   "cell_type": "code",
   "execution_count": 55,
   "id": "1a129680",
   "metadata": {},
   "outputs": [
    {
     "data": {
      "application/vnd.microsoft.datawrangler.viewer.v0+json": {
       "columns": [
        {
         "name": "online_security",
         "rawType": "object",
         "type": "string"
        },
        {
         "name": "No",
         "rawType": "float64",
         "type": "float"
        },
        {
         "name": "No internet service",
         "rawType": "float64",
         "type": "float"
        },
        {
         "name": "Yes",
         "rawType": "float64",
         "type": "float"
        }
       ],
       "ref": "4df249f4-0638-473e-ac75-a91a03ab5728",
       "rows": [
        [
         "No",
         "48.96",
         null,
         "22.33"
        ],
        [
         "No internet service",
         null,
         "7.4",
         null
        ],
        [
         "Yes",
         "21.3",
         null,
         "9.01"
        ]
       ],
       "shape": {
        "columns": 3,
        "rows": 3
       }
      },
      "text/html": [
       "<div>\n",
       "<style scoped>\n",
       "    .dataframe tbody tr th:only-of-type {\n",
       "        vertical-align: middle;\n",
       "    }\n",
       "\n",
       "    .dataframe tbody tr th {\n",
       "        vertical-align: top;\n",
       "    }\n",
       "\n",
       "    .dataframe thead th {\n",
       "        text-align: right;\n",
       "    }\n",
       "</style>\n",
       "<table border=\"1\" class=\"dataframe\">\n",
       "  <thead>\n",
       "    <tr style=\"text-align: right;\">\n",
       "      <th>tech_support</th>\n",
       "      <th>No</th>\n",
       "      <th>No internet service</th>\n",
       "      <th>Yes</th>\n",
       "    </tr>\n",
       "    <tr>\n",
       "      <th>online_security</th>\n",
       "      <th></th>\n",
       "      <th></th>\n",
       "      <th></th>\n",
       "    </tr>\n",
       "  </thead>\n",
       "  <tbody>\n",
       "    <tr>\n",
       "      <th>No</th>\n",
       "      <td>48.96</td>\n",
       "      <td>NaN</td>\n",
       "      <td>22.33</td>\n",
       "    </tr>\n",
       "    <tr>\n",
       "      <th>No internet service</th>\n",
       "      <td>NaN</td>\n",
       "      <td>7.4</td>\n",
       "      <td>NaN</td>\n",
       "    </tr>\n",
       "    <tr>\n",
       "      <th>Yes</th>\n",
       "      <td>21.30</td>\n",
       "      <td>NaN</td>\n",
       "      <td>9.01</td>\n",
       "    </tr>\n",
       "  </tbody>\n",
       "</table>\n",
       "</div>"
      ],
      "text/plain": [
       "tech_support            No  No internet service    Yes\n",
       "online_security                                       \n",
       "No                   48.96                  NaN  22.33\n",
       "No internet service    NaN                  7.4    NaN\n",
       "Yes                  21.30                  NaN   9.01"
      ]
     },
     "execution_count": 55,
     "metadata": {},
     "output_type": "execute_result"
    }
   ],
   "source": [
    "pivot = df_clean.pivot_table(\n",
    "    index='online_security',\n",
    "    columns='tech_support',\n",
    "    values='churn_value',\n",
    "    aggfunc='mean',\n",
    "    observed=True\n",
    ")\n",
    "pivot = (pivot * 100).round(2)\n",
    "pivot\n"
   ]
  },
  {
   "cell_type": "code",
   "execution_count": 56,
   "id": "eaba03c2",
   "metadata": {},
   "outputs": [
    {
     "data": {
      "image/png": "[encoded data removed]",
      "text/plain": [
       "<Figure size 800x600 with 2 Axes>"
      ]
     },
     "metadata": {},
     "output_type": "display_data"
    }
   ],
   "source": [
    "plt.figure(figsize=(8, 6))\n",
    "sns.heatmap(pivot, annot=True, fmt=\".2f\", cmap='viridis')\n",
    "plt.title(\"Churn rate (%) dla online_security i tech_support\")\n",
    "plt.xlabel(\"Tech Support\")\n",
    "plt.ylabel(\"Online Security\")\n",
    "plt.tight_layout()\n",
    "plt.show()"
   ]
  },
  {
   "cell_type": "markdown",
   "id": "7a93cf6d",
   "metadata": {},
   "source": [
    "- The highest churn rate (48.96%) occurs when the customer does not use any of these services.\n",
    "- When the customer uses only one of them, churn drops to around 21-22%.\n",
    "- The lowest churn rate (9.01%) is observed among customers who use both services simultaneously.\n",
    "- This shows that the combination of protection and technical support services strongly increases customer loyalty to the company."
   ]
  },
  {
   "cell_type": "code",
   "execution_count": 57,
   "id": "0a19b059",
   "metadata": {},
   "outputs": [],
   "source": [
    "df_clean['tenure_bin'] = df_clean['tenure_bin'].astype(str)\n",
    "df_clean.to_parquet('../data/processed/Telco_customer_churn_ML.parquet')"
   ]
  },
  {
   "cell_type": "markdown",
   "id": "5a43e23a",
   "metadata": {},
   "source": [
    "# EDA SUMMARY\n",
    "---\n",
    "### Feature strategy for modeling\n",
    "---\n",
    "**Columns dropped** due to redundancy, lack of variance, or high cardinality:\n",
    "\n",
    "- `customer_id` - unique identifier, no predictive value\n",
    "- `churn_label` - duplicate of the target variable (`churn_value`)\n",
    "- `churn_reason` - text feature with many missing values, NLP not in scope\n",
    "- `count`, `country`, `state`, `city` – constant or irrelevant\n",
    "- `zip_code`, `lat_long`, `latitude`, `longitude` - unstructured location data, not used in this model\n",
    "\n",
    "```python\n",
    "columns_to_drop = [\n",
    "    'customer_id', 'count', 'country', 'state', \n",
    "    'city', 'zip_code', 'lat_long', 'latitude', \n",
    "    'longitude','churn_label', 'churn_reason'\n",
    "]\n",
    "```\n",
    "---\n",
    "**Feature Engineering**:\n",
    "- `tenure_bins` - created by discretizing (binning) the variable tenure_months into 4 time intervals. (Type: categorical ('object'))\n",
    "---\n",
    "**Columns with type corrections**:\n",
    "- `total_charges`: converted from `object` to `float` for numerical analysis\n",
    "---\n",
    "\n",
    "**Categorical features** (to be encoded):\n",
    "- `gender`, `senior_citizen`, `partner`, `dependents`\n",
    "- `phone_service`, `multiple_lines`\n",
    "- `internet_service`, `online_security`, `online_backup`, `device_protection`, `tech_support`\n",
    "- `streaming_tv`, `streaming_movies`\n",
    "- `contract`, `payment_method`\n",
    "\n",
    "```python\n",
    "categorical_features = [\n",
    "    'gender', 'senior_citizen', 'partner', 'dependents',\n",
    "    'phone_service', 'multiple_lines', 'internet_service',\n",
    "    'online_security', 'online_backup', 'device_protection',\n",
    "    'tech_support', 'streaming_tv', 'streaming_movies',\n",
    "    'contract', 'payment_method'\n",
    "]\n",
    "```\n",
    "---\n",
    "**Numerical features** (to be scaled):\n",
    "- `tenure_months`, `monthly_charges`, `total_charges`, `cltv`, `churn_score`\n",
    "```python\n",
    "numerical_features = [\n",
    "    'tenure_months', 'monthly_charges', 'total_charges', 'cltv', 'churn_score'\n",
    "]\n",
    "```\n",
    "The cleaned dataset is saved in `.parquet` format to preserve data types and ensure efficient loading in the modeling phase.\n"
   ]
  }
 ],
 "metadata": {
  "kernelspec": {
   "display_name": "venv",
   "language": "python",
   "name": "python3"
  },
  "language_info": {
   "codemirror_mode": {
    "name": "ipython",
    "version": 3
   },
   "file_extension": ".py",
   "mimetype": "text/x-python",
   "name": "python",
   "nbconvert_exporter": "python",
   "pygments_lexer": "ipython3",
   "version": "3.13.2"
  }
 },
 "nbformat": 4,
 "nbformat_minor": 5
}
