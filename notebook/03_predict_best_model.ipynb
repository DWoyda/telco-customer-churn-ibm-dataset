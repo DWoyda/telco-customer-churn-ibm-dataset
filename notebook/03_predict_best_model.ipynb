{
 "cells": [
  {
   "cell_type": "code",
   "execution_count": 12,
   "id": "333aa42c",
   "metadata": {},
   "outputs": [],
   "source": [
    "import joblib\n",
    "import pandas as pd\n",
    "from sklearn.model_selection import train_test_split\n",
    "from sklearn.metrics import classification_report, confusion_matrix"
   ]
  },
  {
   "cell_type": "code",
   "execution_count": 13,
   "id": "26f80a3c",
   "metadata": {},
   "outputs": [],
   "source": [
    "dataset = pd.read_parquet('../data/processed/Telco_customer_churn_ML.parquet')"
   ]
  },
  {
   "cell_type": "code",
   "execution_count": 14,
   "id": "cca97d74",
   "metadata": {},
   "outputs": [],
   "source": [
    "target = ['churn_value']\n",
    "\n",
    "columns_to_drop = [\n",
    "    'customer_id', 'count', 'country', 'state', \n",
    "    'city', 'zip_code', 'lat_long', 'latitude', \n",
    "    'longitude','churn_label', 'churn_reason'\n",
    "]\n",
    "\n",
    "categorical_features = [\n",
    "    'gender', 'senior_citizen', 'partner', 'dependents',\n",
    "    'phone_service', 'multiple_lines', 'internet_service',\n",
    "    'online_security', 'online_backup', 'device_protection',\n",
    "    'tech_support', 'streaming_tv', 'streaming_movies',\n",
    "    'contract', 'payment_method'\n",
    "]\n",
    "\n",
    "numerical_features = [\n",
    "    'tenure_months', 'monthly_charges', 'total_charges', 'cltv', 'churn_score'\n",
    "]   "
   ]
  },
  {
   "cell_type": "code",
   "execution_count": null,
   "id": "372d1d7c",
   "metadata": {},
   "outputs": [],
   "source": [
    "dataset = dataset.dropna(subset=['total_charges'])\n",
    "dataset = dataset.drop(columns=columns_to_drop)"
   ]
  },
  {
   "cell_type": "code",
   "execution_count": null,
   "id": "a79e2497",
   "metadata": {},
   "outputs": [
    {
     "data": {
      "application/vnd.microsoft.datawrangler.viewer.v0+json": {
       "columns": [
        {
         "name": "index",
         "rawType": "int64",
         "type": "integer"
        },
        {
         "name": "gender",
         "rawType": "object",
         "type": "string"
        },
        {
         "name": "senior_citizen",
         "rawType": "object",
         "type": "string"
        },
        {
         "name": "partner",
         "rawType": "object",
         "type": "string"
        },
        {
         "name": "dependents",
         "rawType": "object",
         "type": "string"
        },
        {
         "name": "tenure_months",
         "rawType": "int64",
         "type": "integer"
        },
        {
         "name": "phone_service",
         "rawType": "object",
         "type": "string"
        },
        {
         "name": "multiple_lines",
         "rawType": "object",
         "type": "string"
        },
        {
         "name": "internet_service",
         "rawType": "object",
         "type": "string"
        },
        {
         "name": "online_security",
         "rawType": "object",
         "type": "string"
        },
        {
         "name": "online_backup",
         "rawType": "object",
         "type": "string"
        },
        {
         "name": "device_protection",
         "rawType": "object",
         "type": "string"
        },
        {
         "name": "tech_support",
         "rawType": "object",
         "type": "string"
        },
        {
         "name": "streaming_tv",
         "rawType": "object",
         "type": "string"
        },
        {
         "name": "streaming_movies",
         "rawType": "object",
         "type": "string"
        },
        {
         "name": "contract",
         "rawType": "object",
         "type": "string"
        },
        {
         "name": "paperless_billing",
         "rawType": "object",
         "type": "string"
        },
        {
         "name": "payment_method",
         "rawType": "object",
         "type": "string"
        },
        {
         "name": "monthly_charges",
         "rawType": "float64",
         "type": "float"
        },
        {
         "name": "total_charges",
         "rawType": "float64",
         "type": "float"
        },
        {
         "name": "churn_value",
         "rawType": "int64",
         "type": "integer"
        },
        {
         "name": "churn_score",
         "rawType": "int64",
         "type": "integer"
        },
        {
         "name": "cltv",
         "rawType": "int64",
         "type": "integer"
        },
        {
         "name": "tenure_bin",
         "rawType": "object",
         "type": "string"
        }
       ],
       "ref": "57243416-1e27-4b7a-9ba9-0084a1260efe",
       "rows": [
        [
         "0",
         "Male",
         "No",
         "No",
         "No",
         "2",
         "Yes",
         "No",
         "DSL",
         "Yes",
         "Yes",
         "No",
         "No",
         "No",
         "No",
         "Month-to-month",
         "Yes",
         "Mailed check",
         "53.85",
         "108.15",
         "1",
         "86",
         "3239",
         "(-0.072, 18.0]"
        ],
        [
         "1",
         "Female",
         "No",
         "No",
         "Yes",
         "2",
         "Yes",
         "No",
         "Fiber optic",
         "No",
         "No",
         "No",
         "No",
         "No",
         "No",
         "Month-to-month",
         "Yes",
         "Electronic check",
         "70.7",
         "151.65",
         "1",
         "67",
         "2701",
         "(-0.072, 18.0]"
        ],
        [
         "2",
         "Female",
         "No",
         "No",
         "Yes",
         "8",
         "Yes",
         "Yes",
         "Fiber optic",
         "No",
         "No",
         "Yes",
         "No",
         "Yes",
         "Yes",
         "Month-to-month",
         "Yes",
         "Electronic check",
         "99.65",
         "820.5",
         "1",
         "86",
         "5372",
         "(-0.072, 18.0]"
        ],
        [
         "3",
         "Female",
         "No",
         "Yes",
         "Yes",
         "28",
         "Yes",
         "Yes",
         "Fiber optic",
         "No",
         "No",
         "Yes",
         "Yes",
         "Yes",
         "Yes",
         "Month-to-month",
         "Yes",
         "Electronic check",
         "104.8",
         "3046.05",
         "1",
         "84",
         "5003",
         "(18.0, 36.0]"
        ],
        [
         "4",
         "Male",
         "No",
         "No",
         "Yes",
         "49",
         "Yes",
         "Yes",
         "Fiber optic",
         "No",
         "Yes",
         "Yes",
         "No",
         "Yes",
         "Yes",
         "Month-to-month",
         "Yes",
         "Bank transfer (automatic)",
         "103.7",
         "5036.3",
         "1",
         "89",
         "5340",
         "(36.0, 54.0]"
        ]
       ],
       "shape": {
        "columns": 23,
        "rows": 5
       }
      },
      "text/html": [
       "<div>\n",
       "<style scoped>\n",
       "    .dataframe tbody tr th:only-of-type {\n",
       "        vertical-align: middle;\n",
       "    }\n",
       "\n",
       "    .dataframe tbody tr th {\n",
       "        vertical-align: top;\n",
       "    }\n",
       "\n",
       "    .dataframe thead th {\n",
       "        text-align: right;\n",
       "    }\n",
       "</style>\n",
       "<table border=\"1\" class=\"dataframe\">\n",
       "  <thead>\n",
       "    <tr style=\"text-align: right;\">\n",
       "      <th></th>\n",
       "      <th>gender</th>\n",
       "      <th>senior_citizen</th>\n",
       "      <th>partner</th>\n",
       "      <th>dependents</th>\n",
       "      <th>tenure_months</th>\n",
       "      <th>phone_service</th>\n",
       "      <th>multiple_lines</th>\n",
       "      <th>internet_service</th>\n",
       "      <th>online_security</th>\n",
       "      <th>online_backup</th>\n",
       "      <th>...</th>\n",
       "      <th>streaming_movies</th>\n",
       "      <th>contract</th>\n",
       "      <th>paperless_billing</th>\n",
       "      <th>payment_method</th>\n",
       "      <th>monthly_charges</th>\n",
       "      <th>total_charges</th>\n",
       "      <th>churn_value</th>\n",
       "      <th>churn_score</th>\n",
       "      <th>cltv</th>\n",
       "      <th>tenure_bin</th>\n",
       "    </tr>\n",
       "  </thead>\n",
       "  <tbody>\n",
       "    <tr>\n",
       "      <th>0</th>\n",
       "      <td>Male</td>\n",
       "      <td>No</td>\n",
       "      <td>No</td>\n",
       "      <td>No</td>\n",
       "      <td>2</td>\n",
       "      <td>Yes</td>\n",
       "      <td>No</td>\n",
       "      <td>DSL</td>\n",
       "      <td>Yes</td>\n",
       "      <td>Yes</td>\n",
       "      <td>...</td>\n",
       "      <td>No</td>\n",
       "      <td>Month-to-month</td>\n",
       "      <td>Yes</td>\n",
       "      <td>Mailed check</td>\n",
       "      <td>53.85</td>\n",
       "      <td>108.15</td>\n",
       "      <td>1</td>\n",
       "      <td>86</td>\n",
       "      <td>3239</td>\n",
       "      <td>(-0.072, 18.0]</td>\n",
       "    </tr>\n",
       "    <tr>\n",
       "      <th>1</th>\n",
       "      <td>Female</td>\n",
       "      <td>No</td>\n",
       "      <td>No</td>\n",
       "      <td>Yes</td>\n",
       "      <td>2</td>\n",
       "      <td>Yes</td>\n",
       "      <td>No</td>\n",
       "      <td>Fiber optic</td>\n",
       "      <td>No</td>\n",
       "      <td>No</td>\n",
       "      <td>...</td>\n",
       "      <td>No</td>\n",
       "      <td>Month-to-month</td>\n",
       "      <td>Yes</td>\n",
       "      <td>Electronic check</td>\n",
       "      <td>70.70</td>\n",
       "      <td>151.65</td>\n",
       "      <td>1</td>\n",
       "      <td>67</td>\n",
       "      <td>2701</td>\n",
       "      <td>(-0.072, 18.0]</td>\n",
       "    </tr>\n",
       "    <tr>\n",
       "      <th>2</th>\n",
       "      <td>Female</td>\n",
       "      <td>No</td>\n",
       "      <td>No</td>\n",
       "      <td>Yes</td>\n",
       "      <td>8</td>\n",
       "      <td>Yes</td>\n",
       "      <td>Yes</td>\n",
       "      <td>Fiber optic</td>\n",
       "      <td>No</td>\n",
       "      <td>No</td>\n",
       "      <td>...</td>\n",
       "      <td>Yes</td>\n",
       "      <td>Month-to-month</td>\n",
       "      <td>Yes</td>\n",
       "      <td>Electronic check</td>\n",
       "      <td>99.65</td>\n",
       "      <td>820.50</td>\n",
       "      <td>1</td>\n",
       "      <td>86</td>\n",
       "      <td>5372</td>\n",
       "      <td>(-0.072, 18.0]</td>\n",
       "    </tr>\n",
       "    <tr>\n",
       "      <th>3</th>\n",
       "      <td>Female</td>\n",
       "      <td>No</td>\n",
       "      <td>Yes</td>\n",
       "      <td>Yes</td>\n",
       "      <td>28</td>\n",
       "      <td>Yes</td>\n",
       "      <td>Yes</td>\n",
       "      <td>Fiber optic</td>\n",
       "      <td>No</td>\n",
       "      <td>No</td>\n",
       "      <td>...</td>\n",
       "      <td>Yes</td>\n",
       "      <td>Month-to-month</td>\n",
       "      <td>Yes</td>\n",
       "      <td>Electronic check</td>\n",
       "      <td>104.80</td>\n",
       "      <td>3046.05</td>\n",
       "      <td>1</td>\n",
       "      <td>84</td>\n",
       "      <td>5003</td>\n",
       "      <td>(18.0, 36.0]</td>\n",
       "    </tr>\n",
       "    <tr>\n",
       "      <th>4</th>\n",
       "      <td>Male</td>\n",
       "      <td>No</td>\n",
       "      <td>No</td>\n",
       "      <td>Yes</td>\n",
       "      <td>49</td>\n",
       "      <td>Yes</td>\n",
       "      <td>Yes</td>\n",
       "      <td>Fiber optic</td>\n",
       "      <td>No</td>\n",
       "      <td>Yes</td>\n",
       "      <td>...</td>\n",
       "      <td>Yes</td>\n",
       "      <td>Month-to-month</td>\n",
       "      <td>Yes</td>\n",
       "      <td>Bank transfer (automatic)</td>\n",
       "      <td>103.70</td>\n",
       "      <td>5036.30</td>\n",
       "      <td>1</td>\n",
       "      <td>89</td>\n",
       "      <td>5340</td>\n",
       "      <td>(36.0, 54.0]</td>\n",
       "    </tr>\n",
       "  </tbody>\n",
       "</table>\n",
       "<p>5 rows × 23 columns</p>\n",
       "</div>"
      ],
      "text/plain": [
       "   gender senior_citizen partner dependents  tenure_months phone_service  \\\n",
       "0    Male             No      No         No              2           Yes   \n",
       "1  Female             No      No        Yes              2           Yes   \n",
       "2  Female             No      No        Yes              8           Yes   \n",
       "3  Female             No     Yes        Yes             28           Yes   \n",
       "4    Male             No      No        Yes             49           Yes   \n",
       "\n",
       "  multiple_lines internet_service online_security online_backup  ...  \\\n",
       "0             No              DSL             Yes           Yes  ...   \n",
       "1             No      Fiber optic              No            No  ...   \n",
       "2            Yes      Fiber optic              No            No  ...   \n",
       "3            Yes      Fiber optic              No            No  ...   \n",
       "4            Yes      Fiber optic              No           Yes  ...   \n",
       "\n",
       "  streaming_movies        contract paperless_billing  \\\n",
       "0               No  Month-to-month               Yes   \n",
       "1               No  Month-to-month               Yes   \n",
       "2              Yes  Month-to-month               Yes   \n",
       "3              Yes  Month-to-month               Yes   \n",
       "4              Yes  Month-to-month               Yes   \n",
       "\n",
       "              payment_method monthly_charges total_charges churn_value  \\\n",
       "0               Mailed check           53.85        108.15           1   \n",
       "1           Electronic check           70.70        151.65           1   \n",
       "2           Electronic check           99.65        820.50           1   \n",
       "3           Electronic check          104.80       3046.05           1   \n",
       "4  Bank transfer (automatic)          103.70       5036.30           1   \n",
       "\n",
       "   churn_score  cltv      tenure_bin  \n",
       "0           86  3239  (-0.072, 18.0]  \n",
       "1           67  2701  (-0.072, 18.0]  \n",
       "2           86  5372  (-0.072, 18.0]  \n",
       "3           84  5003    (18.0, 36.0]  \n",
       "4           89  5340    (36.0, 54.0]  \n",
       "\n",
       "[5 rows x 23 columns]"
      ]
     },
     "execution_count": 16,
     "metadata": {},
     "output_type": "execute_result"
    }
   ],
   "source": [
    "dataset"
   ]
  },
  {
   "cell_type": "code",
   "execution_count": 17,
   "id": "0cb09690",
   "metadata": {},
   "outputs": [],
   "source": [
    "X = dataset.drop(target, axis=1)\n",
    "y = dataset[target].squeeze()"
   ]
  },
  {
   "cell_type": "code",
   "execution_count": 18,
   "id": "aaa53055",
   "metadata": {},
   "outputs": [],
   "source": [
    "X_train, X_test, y_train, y_test = train_test_split(X, y, test_size=0.2, stratify=y, random_state=42)"
   ]
  },
  {
   "cell_type": "code",
   "execution_count": null,
   "id": "c2f83c81",
   "metadata": {},
   "outputs": [],
   "source": [
    "pipeline = joblib.load('../models/best_ImbPipeline.pkl')"
   ]
  },
  {
   "cell_type": "code",
   "execution_count": 20,
   "id": "89c88b30",
   "metadata": {},
   "outputs": [],
   "source": [
    "y_pred = pipeline.predict(X_test)"
   ]
  },
  {
   "cell_type": "code",
   "execution_count": 21,
   "id": "ca343d1d",
   "metadata": {},
   "outputs": [
    {
     "name": "stdout",
     "output_type": "stream",
     "text": [
      "              precision    recall  f1-score   support\n",
      "\n",
      "           0       0.96      0.94      0.95      1033\n",
      "           1       0.84      0.89      0.86       374\n",
      "\n",
      "    accuracy                           0.92      1407\n",
      "   macro avg       0.90      0.91      0.91      1407\n",
      "weighted avg       0.93      0.92      0.93      1407\n",
      "\n",
      "[[968  65]\n",
      " [ 41 333]]\n"
     ]
    }
   ],
   "source": [
    "print(classification_report(y_test, y_pred))\n",
    "print(confusion_matrix(y_test, y_pred))"
   ]
  },
  {
   "cell_type": "markdown",
   "id": "08344c94",
   "metadata": {},
   "source": [
    "prediction (data generated by AI)"
   ]
  },
  {
   "cell_type": "code",
   "execution_count": 23,
   "id": "6e336cd8",
   "metadata": {},
   "outputs": [],
   "source": [
    "new_data = pd.read_csv('../data/processed/new_customers.csv')"
   ]
  },
  {
   "cell_type": "code",
   "execution_count": null,
   "id": "ec0462a0",
   "metadata": {},
   "outputs": [],
   "source": [
    "new_preds = pipeline.predict(new_data)\n",
    "new_probs = pipeline.predict_proba(new_data)[:, 1] "
   ]
  },
  {
   "cell_type": "code",
   "execution_count": null,
   "id": "cdac0c11",
   "metadata": {},
   "outputs": [],
   "source": [
    "new_data_with_preds = new_data.copy()\n",
    "new_data_with_preds['churn_prediction'] = new_preds\n",
    "new_data_with_preds['churn_probability'] = new_probs"
   ]
  },
  {
   "cell_type": "code",
   "execution_count": null,
   "id": "91c17935",
   "metadata": {},
   "outputs": [
    {
     "name": "stdout",
     "output_type": "stream",
     "text": [
      "   churn_prediction  churn_probability\n",
      "0                 1           0.790000\n",
      "1                 0           0.026667\n",
      "2                 0           0.003333\n",
      "3                 0           0.416667\n",
      "4                 0           0.003333\n"
     ]
    }
   ],
   "source": [
    "print(new_data_with_preds[['churn_prediction', 'churn_probability']].head())"
   ]
  },
  {
   "cell_type": "code",
   "execution_count": 28,
   "id": "9bf88fa0",
   "metadata": {},
   "outputs": [],
   "source": [
    "new_data_with_preds.to_csv('../reports/predictions.csv')"
   ]
  }
 ],
 "metadata": {
  "kernelspec": {
   "display_name": "venv",
   "language": "python",
   "name": "python3"
  },
  "language_info": {
   "codemirror_mode": {
    "name": "ipython",
    "version": 3
   },
   "file_extension": ".py",
   "mimetype": "text/x-python",
   "name": "python",
   "nbconvert_exporter": "python",
   "pygments_lexer": "ipython3",
   "version": "3.13.2"
  }
 },
 "nbformat": 4,
 "nbformat_minor": 5
}
